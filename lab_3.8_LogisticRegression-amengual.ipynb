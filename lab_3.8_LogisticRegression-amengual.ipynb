{
 "cells": [
  {
   "cell_type": "code",
   "execution_count": 1,
   "id": "896f86e1",
   "metadata": {},
   "outputs": [],
   "source": [
    "# Lab 3.8 - Logistic Regression: Making Predictions"
   ]
  },
  {
   "cell_type": "markdown",
   "id": "e24cf0db",
   "metadata": {},
   "source": [
    "# Workflow"
   ]
  },
  {
   "cell_type": "markdown",
   "id": "e354385f",
   "metadata": {},
   "source": [
    "#### Understanding the problem  \n",
    "Predict if a film will have more monthly rentals in July than in June. Use data from 2005.  \n",
    "Create a column that shows if the number or rentals is higher in July than in June.\n",
    "\n",
    "1. Setting expectations: \n",
    "    1. Choose the appropriate features from film and rentals:\n",
    "        * Film:\n",
    "            + film_id\n",
    "            + ? description? --> find the most repeated words in the rented films?\n",
    "            + ~~release_year~~\n",
    "            + ~~language_id~~ there is only one value\n",
    "            + rental_duration\n",
    "            + rental_rate --> with rental_duration determines the daily cost --> GET DAILY COST\n",
    "            + length\n",
    "            + rating --> ranked\n",
    "            + replacement_cost --> it means the cost of the material copy\n",
    "            + ~~calcular los costes agredados al alquiler~~ --> would need to consider payment also\n",
    "            + ~~special_features --> split the features~~ I think it is completely meaningless\n",
    "        * Rental:\n",
    "            + rental_id --> ~~get the copies (there's no need to get the store)~~== n_customers\n",
    "            + number of rentals by film, store and month\n",
    "            + rental_date\n",
    "            + return_date --> get the real rental duration and compare with film variable ?\n",
    "            + average duration or rent_period --> separate table\n",
    "            + customer_id --> get the number of customers that rented the film\n",
    "            + ~~staff_id~~ --> is redundant to have the store and the staff id? YES\n",
    "        * Inventory:\n",
    "            + Inventory_id --> get the number of copies of every film by store/staff: copies 1 n 2 or copies-staff\n",
    "        * Actor:\n",
    "            + Actor --> Rank the top rented actors in July?; Get the actors for every movie?\n",
    "        * Category:\n",
    "            + Category_id  --> rank the most rented categories in july"
   ]
  },
  {
   "cell_type": "code",
   "execution_count": 2,
   "id": "f2192c51",
   "metadata": {},
   "outputs": [
    {
     "data": {
      "text/plain": [
       "'\\nPoint 1:\\nAnyway... The summary of tables:\\n\\nGeneral table\\n\\nTop rented categories\\nNumber of super stars\\n\\nRanking ratings --> ordinal category\\n\\nRental period\\n\\n\\n\\nPoint 2:\\n\\nTotal amount of rentals in June\\nTotal amount of rentals in July\\n\\nCreate a new column\\n\\n\\n'"
      ]
     },
     "execution_count": 2,
     "metadata": {},
     "output_type": "execute_result"
    }
   ],
   "source": [
    "# Now the problem is understood, do not beat around the bush with the queries and finish as soon as possible\n",
    "\n",
    "\"\"\"\n",
    "Point 1:\n",
    "Anyway... The summary of tables:\n",
    "\n",
    "General table\n",
    "\n",
    "Top rented categories\n",
    "Number of super stars\n",
    "\n",
    "Ranking ratings --> ordinal category\n",
    "\n",
    "Rental period\n",
    "\n",
    "\n",
    "\n",
    "Point 2:\n",
    "\n",
    "Total amount of rentals in June\n",
    "Total amount of rentals in July\n",
    "\n",
    "Create a new column\n",
    "\n",
    "\n",
    "\"\"\"\n",
    "\n"
   ]
  },
  {
   "cell_type": "code",
   "execution_count": null,
   "id": "8b898e38",
   "metadata": {},
   "outputs": [],
   "source": []
  },
  {
   "cell_type": "code",
   "execution_count": null,
   "id": "339318ef",
   "metadata": {},
   "outputs": [],
   "source": []
  },
  {
   "cell_type": "markdown",
   "id": "36b29660",
   "metadata": {},
   "source": [
    "# Import Libraries"
   ]
  },
  {
   "cell_type": "code",
   "execution_count": 161,
   "id": "60744a83",
   "metadata": {},
   "outputs": [],
   "source": [
    "import pymysql\n",
    "from sqlalchemy import create_engine\n",
    "import pandas as pd\n",
    "import getpass  # To get the password without showing the input\n",
    "import seaborn as sns\n",
    "import matplotlib.pyplot as plt\n",
    "import numpy as np\n",
    "from sklearn.preprocessing import MinMaxScaler\n",
    "# from sklearn.preprocessing import StandardScaler\n",
    "from sklearn.model_selection import train_test_split\n",
    "from sklearn.linear_model import LogisticRegression\n",
    "from sklearn.metrics import confusion_matrix, ConfusionMatrixDisplay\n",
    "from sklearn.metrics import accuracy_score, precision_score, recall_score, f1_score, cohen_kappa_score\n",
    "from sklearn.preprocessing import PowerTransformer\n"
   ]
  },
  {
   "cell_type": "code",
   "execution_count": 4,
   "id": "e3e37911",
   "metadata": {},
   "outputs": [],
   "source": [
    "%matplotlib inline"
   ]
  },
  {
   "cell_type": "code",
   "execution_count": 5,
   "id": "d1c7b5f7",
   "metadata": {},
   "outputs": [],
   "source": [
    "from pandas.api.types import CategoricalDtype"
   ]
  },
  {
   "cell_type": "code",
   "execution_count": null,
   "id": "250433be",
   "metadata": {},
   "outputs": [],
   "source": []
  },
  {
   "cell_type": "markdown",
   "id": "6e1e4c8c",
   "metadata": {},
   "source": [
    "# Connect to SQL server and get the data"
   ]
  },
  {
   "cell_type": "code",
   "execution_count": 6,
   "id": "7f9643f5",
   "metadata": {},
   "outputs": [
    {
     "name": "stdout",
     "output_type": "stream",
     "text": [
      "········\n"
     ]
    }
   ],
   "source": [
    "password = getpass.getpass()"
   ]
  },
  {
   "cell_type": "code",
   "execution_count": 7,
   "id": "9cbe016f",
   "metadata": {},
   "outputs": [],
   "source": [
    "connection_string = 'mysql+pymysql://root:' + password + '@localhost/sakila'\n",
    "engine = create_engine(connection_string)"
   ]
  },
  {
   "cell_type": "code",
   "execution_count": 8,
   "id": "9d0f8bd0",
   "metadata": {},
   "outputs": [],
   "source": [
    "main_query = '''\\\n",
    "select film_id, round(rental_rate/rental_duration,2) as daily_cost, length\n",
    "\t\t, rating, replacement_cost\n",
    "        , count(customer_id) as n_customers\n",
    "from film\n",
    "join inventory\n",
    "using(film_id)\n",
    "join rental\n",
    "using(inventory_id)\n",
    "where year(rental_date) = 2005 -- and month(rental_date) = 7 \n",
    "group by film_id; \n",
    "'''\n",
    "\n",
    "#data = pd.read_sql_query(query, engine)\n",
    "#data.head()"
   ]
  },
  {
   "cell_type": "code",
   "execution_count": 9,
   "id": "5d0ac54f",
   "metadata": {},
   "outputs": [
    {
     "data": {
      "text/html": [
       "<div>\n",
       "<style scoped>\n",
       "    .dataframe tbody tr th:only-of-type {\n",
       "        vertical-align: middle;\n",
       "    }\n",
       "\n",
       "    .dataframe tbody tr th {\n",
       "        vertical-align: top;\n",
       "    }\n",
       "\n",
       "    .dataframe thead th {\n",
       "        text-align: right;\n",
       "    }\n",
       "</style>\n",
       "<table border=\"1\" class=\"dataframe\">\n",
       "  <thead>\n",
       "    <tr style=\"text-align: right;\">\n",
       "      <th></th>\n",
       "      <th>film_id</th>\n",
       "      <th>daily_cost</th>\n",
       "      <th>length</th>\n",
       "      <th>rating</th>\n",
       "      <th>replacement_cost</th>\n",
       "      <th>n_customers</th>\n",
       "    </tr>\n",
       "  </thead>\n",
       "  <tbody>\n",
       "    <tr>\n",
       "      <th>0</th>\n",
       "      <td>1</td>\n",
       "      <td>0.17</td>\n",
       "      <td>86</td>\n",
       "      <td>PG</td>\n",
       "      <td>20.99</td>\n",
       "      <td>23</td>\n",
       "    </tr>\n",
       "    <tr>\n",
       "      <th>1</th>\n",
       "      <td>2</td>\n",
       "      <td>1.66</td>\n",
       "      <td>48</td>\n",
       "      <td>G</td>\n",
       "      <td>12.99</td>\n",
       "      <td>6</td>\n",
       "    </tr>\n",
       "    <tr>\n",
       "      <th>2</th>\n",
       "      <td>3</td>\n",
       "      <td>0.43</td>\n",
       "      <td>50</td>\n",
       "      <td>NC-17</td>\n",
       "      <td>18.99</td>\n",
       "      <td>12</td>\n",
       "    </tr>\n",
       "    <tr>\n",
       "      <th>3</th>\n",
       "      <td>4</td>\n",
       "      <td>0.60</td>\n",
       "      <td>117</td>\n",
       "      <td>G</td>\n",
       "      <td>26.99</td>\n",
       "      <td>22</td>\n",
       "    </tr>\n",
       "    <tr>\n",
       "      <th>4</th>\n",
       "      <td>5</td>\n",
       "      <td>0.50</td>\n",
       "      <td>130</td>\n",
       "      <td>G</td>\n",
       "      <td>22.99</td>\n",
       "      <td>11</td>\n",
       "    </tr>\n",
       "  </tbody>\n",
       "</table>\n",
       "</div>"
      ],
      "text/plain": [
       "   film_id  daily_cost  length rating  replacement_cost  n_customers\n",
       "0        1        0.17      86     PG             20.99           23\n",
       "1        2        1.66      48      G             12.99            6\n",
       "2        3        0.43      50  NC-17             18.99           12\n",
       "3        4        0.60     117      G             26.99           22\n",
       "4        5        0.50     130      G             22.99           11"
      ]
     },
     "execution_count": 9,
     "metadata": {},
     "output_type": "execute_result"
    }
   ],
   "source": [
    "film = pd.read_sql_query(main_query, engine)\n",
    "film.head()"
   ]
  },
  {
   "cell_type": "markdown",
   "id": "df3a1c70",
   "metadata": {},
   "source": [
    "## get descriptive data of the films"
   ]
  },
  {
   "cell_type": "code",
   "execution_count": 10,
   "id": "1d2bd1f4",
   "metadata": {},
   "outputs": [],
   "source": [
    "category_query = \"\"\"\\\n",
    "select film_id, category_id as top_categories from film_category\n",
    "where category_id in (15,2,1,7,14);\n",
    "\"\"\"\n",
    "\n",
    "stars_query = \"\"\"\\\n",
    "select film_id, count(actor_id) as n_stars from film_actor\n",
    "where actor_id in (107,181,198,144,60) -- if I place a subquery must contain with having instead of limit\n",
    "group by film_id;\n",
    "\"\"\"\n",
    "\n",
    "rating_query = \"\"\"\\\n",
    "select rating, count(rental_id) as n_rents from film\n",
    "join inventory\n",
    "using(film_id)\n",
    "join rental\n",
    "using(inventory_id)\n",
    "where year(rental_date) = 2005\n",
    "group by rating\n",
    "order by n_rents desc;\n",
    "\"\"\"\n",
    "\n",
    "period_query = \"\"\"\\\n",
    "select film_id, round(avg(datediff(return_date, rental_date)),0) as rent_period\n",
    "from film\n",
    "join inventory\n",
    "using(film_id)\n",
    "join rental\n",
    "using(inventory_id)\n",
    "where return_date is not null\n",
    "group by film_id;\n",
    "\"\"\""
   ]
  },
  {
   "cell_type": "code",
   "execution_count": 11,
   "id": "e318bed8",
   "metadata": {},
   "outputs": [
    {
     "data": {
      "text/html": [
       "<div>\n",
       "<style scoped>\n",
       "    .dataframe tbody tr th:only-of-type {\n",
       "        vertical-align: middle;\n",
       "    }\n",
       "\n",
       "    .dataframe tbody tr th {\n",
       "        vertical-align: top;\n",
       "    }\n",
       "\n",
       "    .dataframe thead th {\n",
       "        text-align: right;\n",
       "    }\n",
       "</style>\n",
       "<table border=\"1\" class=\"dataframe\">\n",
       "  <thead>\n",
       "    <tr style=\"text-align: right;\">\n",
       "      <th></th>\n",
       "      <th>film_id</th>\n",
       "      <th>top_categories</th>\n",
       "    </tr>\n",
       "  </thead>\n",
       "  <tbody>\n",
       "    <tr>\n",
       "      <th>0</th>\n",
       "      <td>19</td>\n",
       "      <td>1</td>\n",
       "    </tr>\n",
       "    <tr>\n",
       "      <th>1</th>\n",
       "      <td>21</td>\n",
       "      <td>1</td>\n",
       "    </tr>\n",
       "    <tr>\n",
       "      <th>2</th>\n",
       "      <td>29</td>\n",
       "      <td>1</td>\n",
       "    </tr>\n",
       "    <tr>\n",
       "      <th>3</th>\n",
       "      <td>38</td>\n",
       "      <td>1</td>\n",
       "    </tr>\n",
       "    <tr>\n",
       "      <th>4</th>\n",
       "      <td>56</td>\n",
       "      <td>1</td>\n",
       "    </tr>\n",
       "  </tbody>\n",
       "</table>\n",
       "</div>"
      ],
      "text/plain": [
       "   film_id  top_categories\n",
       "0       19               1\n",
       "1       21               1\n",
       "2       29               1\n",
       "3       38               1\n",
       "4       56               1"
      ]
     },
     "execution_count": 11,
     "metadata": {},
     "output_type": "execute_result"
    }
   ],
   "source": [
    "top_categories = pd.read_sql_query(category_query, engine)\n",
    "top_categories.head() # --> ordinal category; find the rank in the query"
   ]
  },
  {
   "cell_type": "code",
   "execution_count": 12,
   "id": "4555599d",
   "metadata": {},
   "outputs": [
    {
     "data": {
      "text/html": [
       "<div>\n",
       "<style scoped>\n",
       "    .dataframe tbody tr th:only-of-type {\n",
       "        vertical-align: middle;\n",
       "    }\n",
       "\n",
       "    .dataframe tbody tr th {\n",
       "        vertical-align: top;\n",
       "    }\n",
       "\n",
       "    .dataframe thead th {\n",
       "        text-align: right;\n",
       "    }\n",
       "</style>\n",
       "<table border=\"1\" class=\"dataframe\">\n",
       "  <thead>\n",
       "    <tr style=\"text-align: right;\">\n",
       "      <th></th>\n",
       "      <th>film_id</th>\n",
       "      <th>n_stars</th>\n",
       "    </tr>\n",
       "  </thead>\n",
       "  <tbody>\n",
       "    <tr>\n",
       "      <th>0</th>\n",
       "      <td>31</td>\n",
       "      <td>1</td>\n",
       "    </tr>\n",
       "    <tr>\n",
       "      <th>1</th>\n",
       "      <td>85</td>\n",
       "      <td>1</td>\n",
       "    </tr>\n",
       "    <tr>\n",
       "      <th>2</th>\n",
       "      <td>133</td>\n",
       "      <td>2</td>\n",
       "    </tr>\n",
       "    <tr>\n",
       "      <th>3</th>\n",
       "      <td>142</td>\n",
       "      <td>1</td>\n",
       "    </tr>\n",
       "    <tr>\n",
       "      <th>4</th>\n",
       "      <td>177</td>\n",
       "      <td>1</td>\n",
       "    </tr>\n",
       "  </tbody>\n",
       "</table>\n",
       "</div>"
      ],
      "text/plain": [
       "   film_id  n_stars\n",
       "0       31        1\n",
       "1       85        1\n",
       "2      133        2\n",
       "3      142        1\n",
       "4      177        1"
      ]
     },
     "execution_count": 12,
     "metadata": {},
     "output_type": "execute_result"
    }
   ],
   "source": [
    "top_stars = pd.read_sql_query(stars_query, engine)\n",
    "top_stars.head() # --> numerical"
   ]
  },
  {
   "cell_type": "code",
   "execution_count": 13,
   "id": "adedd3aa",
   "metadata": {},
   "outputs": [
    {
     "data": {
      "text/html": [
       "<div>\n",
       "<style scoped>\n",
       "    .dataframe tbody tr th:only-of-type {\n",
       "        vertical-align: middle;\n",
       "    }\n",
       "\n",
       "    .dataframe tbody tr th {\n",
       "        vertical-align: top;\n",
       "    }\n",
       "\n",
       "    .dataframe thead th {\n",
       "        text-align: right;\n",
       "    }\n",
       "</style>\n",
       "<table border=\"1\" class=\"dataframe\">\n",
       "  <thead>\n",
       "    <tr style=\"text-align: right;\">\n",
       "      <th></th>\n",
       "      <th>rating</th>\n",
       "      <th>n_rents</th>\n",
       "    </tr>\n",
       "  </thead>\n",
       "  <tbody>\n",
       "    <tr>\n",
       "      <th>0</th>\n",
       "      <td>PG-13</td>\n",
       "      <td>3543</td>\n",
       "    </tr>\n",
       "    <tr>\n",
       "      <th>1</th>\n",
       "      <td>NC-17</td>\n",
       "      <td>3249</td>\n",
       "    </tr>\n",
       "    <tr>\n",
       "      <th>2</th>\n",
       "      <td>PG</td>\n",
       "      <td>3178</td>\n",
       "    </tr>\n",
       "    <tr>\n",
       "      <th>3</th>\n",
       "      <td>R</td>\n",
       "      <td>3152</td>\n",
       "    </tr>\n",
       "    <tr>\n",
       "      <th>4</th>\n",
       "      <td>G</td>\n",
       "      <td>2740</td>\n",
       "    </tr>\n",
       "  </tbody>\n",
       "</table>\n",
       "</div>"
      ],
      "text/plain": [
       "  rating  n_rents\n",
       "0  PG-13     3543\n",
       "1  NC-17     3249\n",
       "2     PG     3178\n",
       "3      R     3152\n",
       "4      G     2740"
      ]
     },
     "execution_count": 13,
     "metadata": {},
     "output_type": "execute_result"
    }
   ],
   "source": [
    "rating = pd.read_sql_query(rating_query, engine)\n",
    "rating.head() # --> ordinal"
   ]
  },
  {
   "cell_type": "code",
   "execution_count": 14,
   "id": "79e14881",
   "metadata": {},
   "outputs": [
    {
     "data": {
      "text/html": [
       "<div>\n",
       "<style scoped>\n",
       "    .dataframe tbody tr th:only-of-type {\n",
       "        vertical-align: middle;\n",
       "    }\n",
       "\n",
       "    .dataframe tbody tr th {\n",
       "        vertical-align: top;\n",
       "    }\n",
       "\n",
       "    .dataframe thead th {\n",
       "        text-align: right;\n",
       "    }\n",
       "</style>\n",
       "<table border=\"1\" class=\"dataframe\">\n",
       "  <thead>\n",
       "    <tr style=\"text-align: right;\">\n",
       "      <th></th>\n",
       "      <th>film_id</th>\n",
       "      <th>rent_period</th>\n",
       "    </tr>\n",
       "  </thead>\n",
       "  <tbody>\n",
       "    <tr>\n",
       "      <th>0</th>\n",
       "      <td>1</td>\n",
       "      <td>5.0</td>\n",
       "    </tr>\n",
       "    <tr>\n",
       "      <th>1</th>\n",
       "      <td>2</td>\n",
       "      <td>6.0</td>\n",
       "    </tr>\n",
       "    <tr>\n",
       "      <th>2</th>\n",
       "      <td>3</td>\n",
       "      <td>3.0</td>\n",
       "    </tr>\n",
       "    <tr>\n",
       "      <th>3</th>\n",
       "      <td>4</td>\n",
       "      <td>5.0</td>\n",
       "    </tr>\n",
       "    <tr>\n",
       "      <th>4</th>\n",
       "      <td>5</td>\n",
       "      <td>7.0</td>\n",
       "    </tr>\n",
       "  </tbody>\n",
       "</table>\n",
       "</div>"
      ],
      "text/plain": [
       "   film_id  rent_period\n",
       "0        1          5.0\n",
       "1        2          6.0\n",
       "2        3          3.0\n",
       "3        4          5.0\n",
       "4        5          7.0"
      ]
     },
     "execution_count": 14,
     "metadata": {},
     "output_type": "execute_result"
    }
   ],
   "source": [
    "periods = pd.read_sql_query(period_query, engine)\n",
    "periods.head() "
   ]
  },
  {
   "cell_type": "markdown",
   "id": "88581a14",
   "metadata": {},
   "source": [
    "## get the rentals data"
   ]
  },
  {
   "cell_type": "code",
   "execution_count": 15,
   "id": "b4936b14",
   "metadata": {},
   "outputs": [],
   "source": [
    "june_query = \"\"\"\\\n",
    "select film_id, count(rental_id) as n_rents \n",
    "from film\n",
    "join inventory\n",
    "using(film_id)\n",
    "join rental\n",
    "using(inventory_id)\n",
    "where year(rental_date) = 2005 and month(rental_date) = 6 \n",
    "group by film_id;\n",
    "\"\"\"\n",
    "\n",
    "july_query = \"\"\"\\\n",
    "select film_id, count(rental_id) as n_rents \n",
    "from film\n",
    "join inventory\n",
    "using(film_id)\n",
    "join rental\n",
    "using(inventory_id)\n",
    "where year(rental_date) = 2005 and month(rental_date) = 7 \n",
    "group by film_id;\n",
    "\"\"\"\n"
   ]
  },
  {
   "cell_type": "code",
   "execution_count": 16,
   "id": "3591de4b",
   "metadata": {},
   "outputs": [
    {
     "data": {
      "text/html": [
       "<div>\n",
       "<style scoped>\n",
       "    .dataframe tbody tr th:only-of-type {\n",
       "        vertical-align: middle;\n",
       "    }\n",
       "\n",
       "    .dataframe tbody tr th {\n",
       "        vertical-align: top;\n",
       "    }\n",
       "\n",
       "    .dataframe thead th {\n",
       "        text-align: right;\n",
       "    }\n",
       "</style>\n",
       "<table border=\"1\" class=\"dataframe\">\n",
       "  <thead>\n",
       "    <tr style=\"text-align: right;\">\n",
       "      <th></th>\n",
       "      <th>film_id</th>\n",
       "      <th>n_rents</th>\n",
       "    </tr>\n",
       "  </thead>\n",
       "  <tbody>\n",
       "    <tr>\n",
       "      <th>0</th>\n",
       "      <td>1</td>\n",
       "      <td>3</td>\n",
       "    </tr>\n",
       "    <tr>\n",
       "      <th>1</th>\n",
       "      <td>3</td>\n",
       "      <td>1</td>\n",
       "    </tr>\n",
       "    <tr>\n",
       "      <th>2</th>\n",
       "      <td>4</td>\n",
       "      <td>2</td>\n",
       "    </tr>\n",
       "    <tr>\n",
       "      <th>3</th>\n",
       "      <td>5</td>\n",
       "      <td>2</td>\n",
       "    </tr>\n",
       "    <tr>\n",
       "      <th>4</th>\n",
       "      <td>6</td>\n",
       "      <td>3</td>\n",
       "    </tr>\n",
       "  </tbody>\n",
       "</table>\n",
       "</div>"
      ],
      "text/plain": [
       "   film_id  n_rents\n",
       "0        1        3\n",
       "1        3        1\n",
       "2        4        2\n",
       "3        5        2\n",
       "4        6        3"
      ]
     },
     "execution_count": 16,
     "metadata": {},
     "output_type": "execute_result"
    }
   ],
   "source": [
    "june = pd.read_sql_query(june_query, engine)\n",
    "june.head() "
   ]
  },
  {
   "cell_type": "code",
   "execution_count": 17,
   "id": "b7fd7057",
   "metadata": {},
   "outputs": [
    {
     "data": {
      "text/html": [
       "<div>\n",
       "<style scoped>\n",
       "    .dataframe tbody tr th:only-of-type {\n",
       "        vertical-align: middle;\n",
       "    }\n",
       "\n",
       "    .dataframe tbody tr th {\n",
       "        vertical-align: top;\n",
       "    }\n",
       "\n",
       "    .dataframe thead th {\n",
       "        text-align: right;\n",
       "    }\n",
       "</style>\n",
       "<table border=\"1\" class=\"dataframe\">\n",
       "  <thead>\n",
       "    <tr style=\"text-align: right;\">\n",
       "      <th></th>\n",
       "      <th>film_id</th>\n",
       "      <th>n_rents</th>\n",
       "    </tr>\n",
       "  </thead>\n",
       "  <tbody>\n",
       "    <tr>\n",
       "      <th>0</th>\n",
       "      <td>1</td>\n",
       "      <td>9</td>\n",
       "    </tr>\n",
       "    <tr>\n",
       "      <th>1</th>\n",
       "      <td>2</td>\n",
       "      <td>2</td>\n",
       "    </tr>\n",
       "    <tr>\n",
       "      <th>2</th>\n",
       "      <td>3</td>\n",
       "      <td>4</td>\n",
       "    </tr>\n",
       "    <tr>\n",
       "      <th>3</th>\n",
       "      <td>4</td>\n",
       "      <td>12</td>\n",
       "    </tr>\n",
       "    <tr>\n",
       "      <th>4</th>\n",
       "      <td>5</td>\n",
       "      <td>5</td>\n",
       "    </tr>\n",
       "  </tbody>\n",
       "</table>\n",
       "</div>"
      ],
      "text/plain": [
       "   film_id  n_rents\n",
       "0        1        9\n",
       "1        2        2\n",
       "2        3        4\n",
       "3        4       12\n",
       "4        5        5"
      ]
     },
     "execution_count": 17,
     "metadata": {},
     "output_type": "execute_result"
    }
   ],
   "source": [
    "july = pd.read_sql_query(july_query, engine)\n",
    "july.head() "
   ]
  },
  {
   "cell_type": "code",
   "execution_count": null,
   "id": "fe2ff8e0",
   "metadata": {},
   "outputs": [],
   "source": []
  },
  {
   "cell_type": "markdown",
   "id": "e230493a",
   "metadata": {},
   "source": [
    "## perform joins"
   ]
  },
  {
   "cell_type": "markdown",
   "id": "5063b2c4",
   "metadata": {},
   "source": [
    "### Top Categories --> Ordinal"
   ]
  },
  {
   "cell_type": "code",
   "execution_count": 18,
   "id": "1f9de438",
   "metadata": {},
   "outputs": [
    {
     "data": {
      "text/html": [
       "<div>\n",
       "<style scoped>\n",
       "    .dataframe tbody tr th:only-of-type {\n",
       "        vertical-align: middle;\n",
       "    }\n",
       "\n",
       "    .dataframe tbody tr th {\n",
       "        vertical-align: top;\n",
       "    }\n",
       "\n",
       "    .dataframe thead th {\n",
       "        text-align: right;\n",
       "    }\n",
       "</style>\n",
       "<table border=\"1\" class=\"dataframe\">\n",
       "  <thead>\n",
       "    <tr style=\"text-align: right;\">\n",
       "      <th></th>\n",
       "      <th>film_id</th>\n",
       "      <th>daily_cost</th>\n",
       "      <th>length</th>\n",
       "      <th>rating</th>\n",
       "      <th>replacement_cost</th>\n",
       "      <th>n_customers</th>\n",
       "      <th>top_categories</th>\n",
       "    </tr>\n",
       "  </thead>\n",
       "  <tbody>\n",
       "    <tr>\n",
       "      <th>0</th>\n",
       "      <td>1</td>\n",
       "      <td>0.17</td>\n",
       "      <td>86</td>\n",
       "      <td>PG</td>\n",
       "      <td>20.99</td>\n",
       "      <td>23</td>\n",
       "      <td>NaN</td>\n",
       "    </tr>\n",
       "    <tr>\n",
       "      <th>1</th>\n",
       "      <td>2</td>\n",
       "      <td>1.66</td>\n",
       "      <td>48</td>\n",
       "      <td>G</td>\n",
       "      <td>12.99</td>\n",
       "      <td>6</td>\n",
       "      <td>NaN</td>\n",
       "    </tr>\n",
       "    <tr>\n",
       "      <th>2</th>\n",
       "      <td>3</td>\n",
       "      <td>0.43</td>\n",
       "      <td>50</td>\n",
       "      <td>NC-17</td>\n",
       "      <td>18.99</td>\n",
       "      <td>12</td>\n",
       "      <td>NaN</td>\n",
       "    </tr>\n",
       "    <tr>\n",
       "      <th>3</th>\n",
       "      <td>4</td>\n",
       "      <td>0.60</td>\n",
       "      <td>117</td>\n",
       "      <td>G</td>\n",
       "      <td>26.99</td>\n",
       "      <td>22</td>\n",
       "      <td>NaN</td>\n",
       "    </tr>\n",
       "    <tr>\n",
       "      <th>4</th>\n",
       "      <td>5</td>\n",
       "      <td>0.50</td>\n",
       "      <td>130</td>\n",
       "      <td>G</td>\n",
       "      <td>22.99</td>\n",
       "      <td>11</td>\n",
       "      <td>NaN</td>\n",
       "    </tr>\n",
       "  </tbody>\n",
       "</table>\n",
       "</div>"
      ],
      "text/plain": [
       "   film_id  daily_cost  length rating  replacement_cost  n_customers  \\\n",
       "0        1        0.17      86     PG             20.99           23   \n",
       "1        2        1.66      48      G             12.99            6   \n",
       "2        3        0.43      50  NC-17             18.99           12   \n",
       "3        4        0.60     117      G             26.99           22   \n",
       "4        5        0.50     130      G             22.99           11   \n",
       "\n",
       "   top_categories  \n",
       "0             NaN  \n",
       "1             NaN  \n",
       "2             NaN  \n",
       "3             NaN  \n",
       "4             NaN  "
      ]
     },
     "execution_count": 18,
     "metadata": {},
     "output_type": "execute_result"
    }
   ],
   "source": [
    "film = film.merge(top_categories, how='left', on= 'film_id')\n",
    "film.head()"
   ]
  },
  {
   "cell_type": "code",
   "execution_count": 19,
   "id": "fe3bcf32",
   "metadata": {},
   "outputs": [
    {
     "data": {
      "text/plain": [
       "film_id               0\n",
       "daily_cost            0\n",
       "length                0\n",
       "rating                0\n",
       "replacement_cost      0\n",
       "n_customers           0\n",
       "top_categories      640\n",
       "dtype: int64"
      ]
     },
     "execution_count": 19,
     "metadata": {},
     "output_type": "execute_result"
    }
   ],
   "source": [
    "film.isna().sum()"
   ]
  },
  {
   "cell_type": "code",
   "execution_count": 20,
   "id": "f4162731",
   "metadata": {},
   "outputs": [
    {
     "data": {
      "text/plain": [
       "(958, 7)"
      ]
     },
     "execution_count": 20,
     "metadata": {},
     "output_type": "execute_result"
    }
   ],
   "source": [
    "film.shape"
   ]
  },
  {
   "cell_type": "code",
   "execution_count": 21,
   "id": "9d2a2da6",
   "metadata": {},
   "outputs": [
    {
     "data": {
      "text/html": [
       "<div>\n",
       "<style scoped>\n",
       "    .dataframe tbody tr th:only-of-type {\n",
       "        vertical-align: middle;\n",
       "    }\n",
       "\n",
       "    .dataframe tbody tr th {\n",
       "        vertical-align: top;\n",
       "    }\n",
       "\n",
       "    .dataframe thead th {\n",
       "        text-align: right;\n",
       "    }\n",
       "</style>\n",
       "<table border=\"1\" class=\"dataframe\">\n",
       "  <thead>\n",
       "    <tr style=\"text-align: right;\">\n",
       "      <th></th>\n",
       "      <th>film_id</th>\n",
       "      <th>daily_cost</th>\n",
       "      <th>length</th>\n",
       "      <th>rating</th>\n",
       "      <th>replacement_cost</th>\n",
       "      <th>n_customers</th>\n",
       "      <th>top_categories</th>\n",
       "    </tr>\n",
       "  </thead>\n",
       "  <tbody>\n",
       "    <tr>\n",
       "      <th>0</th>\n",
       "      <td>1</td>\n",
       "      <td>0.17</td>\n",
       "      <td>86</td>\n",
       "      <td>PG</td>\n",
       "      <td>20.99</td>\n",
       "      <td>23</td>\n",
       "      <td>0.0</td>\n",
       "    </tr>\n",
       "    <tr>\n",
       "      <th>1</th>\n",
       "      <td>2</td>\n",
       "      <td>1.66</td>\n",
       "      <td>48</td>\n",
       "      <td>G</td>\n",
       "      <td>12.99</td>\n",
       "      <td>6</td>\n",
       "      <td>0.0</td>\n",
       "    </tr>\n",
       "    <tr>\n",
       "      <th>2</th>\n",
       "      <td>3</td>\n",
       "      <td>0.43</td>\n",
       "      <td>50</td>\n",
       "      <td>NC-17</td>\n",
       "      <td>18.99</td>\n",
       "      <td>12</td>\n",
       "      <td>0.0</td>\n",
       "    </tr>\n",
       "    <tr>\n",
       "      <th>3</th>\n",
       "      <td>4</td>\n",
       "      <td>0.60</td>\n",
       "      <td>117</td>\n",
       "      <td>G</td>\n",
       "      <td>26.99</td>\n",
       "      <td>22</td>\n",
       "      <td>0.0</td>\n",
       "    </tr>\n",
       "    <tr>\n",
       "      <th>4</th>\n",
       "      <td>5</td>\n",
       "      <td>0.50</td>\n",
       "      <td>130</td>\n",
       "      <td>G</td>\n",
       "      <td>22.99</td>\n",
       "      <td>11</td>\n",
       "      <td>0.0</td>\n",
       "    </tr>\n",
       "  </tbody>\n",
       "</table>\n",
       "</div>"
      ],
      "text/plain": [
       "   film_id  daily_cost  length rating  replacement_cost  n_customers  \\\n",
       "0        1        0.17      86     PG             20.99           23   \n",
       "1        2        1.66      48      G             12.99            6   \n",
       "2        3        0.43      50  NC-17             18.99           12   \n",
       "3        4        0.60     117      G             26.99           22   \n",
       "4        5        0.50     130      G             22.99           11   \n",
       "\n",
       "   top_categories  \n",
       "0             0.0  \n",
       "1             0.0  \n",
       "2             0.0  \n",
       "3             0.0  \n",
       "4             0.0  "
      ]
     },
     "execution_count": 21,
     "metadata": {},
     "output_type": "execute_result"
    }
   ],
   "source": [
    "film.top_categories.fillna(0, inplace = True)\n",
    "film.head()"
   ]
  },
  {
   "cell_type": "code",
   "execution_count": 22,
   "id": "fe541a27",
   "metadata": {},
   "outputs": [
    {
     "data": {
      "text/plain": [
       "film_id               int64\n",
       "daily_cost          float64\n",
       "length                int64\n",
       "rating               object\n",
       "replacement_cost    float64\n",
       "n_customers           int64\n",
       "top_categories      float64\n",
       "dtype: object"
      ]
     },
     "execution_count": 22,
     "metadata": {},
     "output_type": "execute_result"
    }
   ],
   "source": [
    "film.dtypes"
   ]
  },
  {
   "cell_type": "code",
   "execution_count": 23,
   "id": "5a990b9f",
   "metadata": {},
   "outputs": [],
   "source": [
    "film.top_categories = film.top_categories.astype('object')"
   ]
  },
  {
   "cell_type": "code",
   "execution_count": 24,
   "id": "5363d71f",
   "metadata": {},
   "outputs": [
    {
     "data": {
      "text/plain": [
       "film_id               int64\n",
       "daily_cost          float64\n",
       "length                int64\n",
       "rating               object\n",
       "replacement_cost    float64\n",
       "n_customers           int64\n",
       "top_categories       object\n",
       "dtype: object"
      ]
     },
     "execution_count": 24,
     "metadata": {},
     "output_type": "execute_result"
    }
   ],
   "source": [
    "film.dtypes"
   ]
  },
  {
   "cell_type": "code",
   "execution_count": null,
   "id": "e9dbbeb1",
   "metadata": {},
   "outputs": [],
   "source": []
  },
  {
   "cell_type": "markdown",
   "id": "8eee3541",
   "metadata": {},
   "source": [
    "### Top stars --> Numerical"
   ]
  },
  {
   "cell_type": "code",
   "execution_count": 25,
   "id": "886d40e2",
   "metadata": {},
   "outputs": [
    {
     "data": {
      "text/html": [
       "<div>\n",
       "<style scoped>\n",
       "    .dataframe tbody tr th:only-of-type {\n",
       "        vertical-align: middle;\n",
       "    }\n",
       "\n",
       "    .dataframe tbody tr th {\n",
       "        vertical-align: top;\n",
       "    }\n",
       "\n",
       "    .dataframe thead th {\n",
       "        text-align: right;\n",
       "    }\n",
       "</style>\n",
       "<table border=\"1\" class=\"dataframe\">\n",
       "  <thead>\n",
       "    <tr style=\"text-align: right;\">\n",
       "      <th></th>\n",
       "      <th>film_id</th>\n",
       "      <th>daily_cost</th>\n",
       "      <th>length</th>\n",
       "      <th>rating</th>\n",
       "      <th>replacement_cost</th>\n",
       "      <th>n_customers</th>\n",
       "      <th>top_categories</th>\n",
       "      <th>n_stars</th>\n",
       "    </tr>\n",
       "  </thead>\n",
       "  <tbody>\n",
       "    <tr>\n",
       "      <th>0</th>\n",
       "      <td>1</td>\n",
       "      <td>0.17</td>\n",
       "      <td>86</td>\n",
       "      <td>PG</td>\n",
       "      <td>20.99</td>\n",
       "      <td>23</td>\n",
       "      <td>0.0</td>\n",
       "      <td>1.0</td>\n",
       "    </tr>\n",
       "    <tr>\n",
       "      <th>1</th>\n",
       "      <td>2</td>\n",
       "      <td>1.66</td>\n",
       "      <td>48</td>\n",
       "      <td>G</td>\n",
       "      <td>12.99</td>\n",
       "      <td>6</td>\n",
       "      <td>0.0</td>\n",
       "      <td>NaN</td>\n",
       "    </tr>\n",
       "    <tr>\n",
       "      <th>2</th>\n",
       "      <td>3</td>\n",
       "      <td>0.43</td>\n",
       "      <td>50</td>\n",
       "      <td>NC-17</td>\n",
       "      <td>18.99</td>\n",
       "      <td>12</td>\n",
       "      <td>0.0</td>\n",
       "      <td>NaN</td>\n",
       "    </tr>\n",
       "    <tr>\n",
       "      <th>3</th>\n",
       "      <td>4</td>\n",
       "      <td>0.60</td>\n",
       "      <td>117</td>\n",
       "      <td>G</td>\n",
       "      <td>26.99</td>\n",
       "      <td>22</td>\n",
       "      <td>0.0</td>\n",
       "      <td>NaN</td>\n",
       "    </tr>\n",
       "    <tr>\n",
       "      <th>4</th>\n",
       "      <td>5</td>\n",
       "      <td>0.50</td>\n",
       "      <td>130</td>\n",
       "      <td>G</td>\n",
       "      <td>22.99</td>\n",
       "      <td>11</td>\n",
       "      <td>0.0</td>\n",
       "      <td>1.0</td>\n",
       "    </tr>\n",
       "  </tbody>\n",
       "</table>\n",
       "</div>"
      ],
      "text/plain": [
       "   film_id  daily_cost  length rating  replacement_cost  n_customers  \\\n",
       "0        1        0.17      86     PG             20.99           23   \n",
       "1        2        1.66      48      G             12.99            6   \n",
       "2        3        0.43      50  NC-17             18.99           12   \n",
       "3        4        0.60     117      G             26.99           22   \n",
       "4        5        0.50     130      G             22.99           11   \n",
       "\n",
       "  top_categories  n_stars  \n",
       "0            0.0      1.0  \n",
       "1            0.0      NaN  \n",
       "2            0.0      NaN  \n",
       "3            0.0      NaN  \n",
       "4            0.0      1.0  "
      ]
     },
     "execution_count": 25,
     "metadata": {},
     "output_type": "execute_result"
    }
   ],
   "source": [
    "film = film.merge(top_stars, how='left', on= 'film_id')\n",
    "film.head()"
   ]
  },
  {
   "cell_type": "code",
   "execution_count": 26,
   "id": "84ae70b3",
   "metadata": {},
   "outputs": [
    {
     "data": {
      "text/html": [
       "<div>\n",
       "<style scoped>\n",
       "    .dataframe tbody tr th:only-of-type {\n",
       "        vertical-align: middle;\n",
       "    }\n",
       "\n",
       "    .dataframe tbody tr th {\n",
       "        vertical-align: top;\n",
       "    }\n",
       "\n",
       "    .dataframe thead th {\n",
       "        text-align: right;\n",
       "    }\n",
       "</style>\n",
       "<table border=\"1\" class=\"dataframe\">\n",
       "  <thead>\n",
       "    <tr style=\"text-align: right;\">\n",
       "      <th></th>\n",
       "      <th>film_id</th>\n",
       "      <th>daily_cost</th>\n",
       "      <th>length</th>\n",
       "      <th>rating</th>\n",
       "      <th>replacement_cost</th>\n",
       "      <th>n_customers</th>\n",
       "      <th>top_categories</th>\n",
       "      <th>n_stars</th>\n",
       "    </tr>\n",
       "  </thead>\n",
       "  <tbody>\n",
       "    <tr>\n",
       "      <th>0</th>\n",
       "      <td>1</td>\n",
       "      <td>0.17</td>\n",
       "      <td>86</td>\n",
       "      <td>PG</td>\n",
       "      <td>20.99</td>\n",
       "      <td>23</td>\n",
       "      <td>0.0</td>\n",
       "      <td>1.0</td>\n",
       "    </tr>\n",
       "    <tr>\n",
       "      <th>1</th>\n",
       "      <td>2</td>\n",
       "      <td>1.66</td>\n",
       "      <td>48</td>\n",
       "      <td>G</td>\n",
       "      <td>12.99</td>\n",
       "      <td>6</td>\n",
       "      <td>0.0</td>\n",
       "      <td>0.0</td>\n",
       "    </tr>\n",
       "    <tr>\n",
       "      <th>2</th>\n",
       "      <td>3</td>\n",
       "      <td>0.43</td>\n",
       "      <td>50</td>\n",
       "      <td>NC-17</td>\n",
       "      <td>18.99</td>\n",
       "      <td>12</td>\n",
       "      <td>0.0</td>\n",
       "      <td>0.0</td>\n",
       "    </tr>\n",
       "    <tr>\n",
       "      <th>3</th>\n",
       "      <td>4</td>\n",
       "      <td>0.60</td>\n",
       "      <td>117</td>\n",
       "      <td>G</td>\n",
       "      <td>26.99</td>\n",
       "      <td>22</td>\n",
       "      <td>0.0</td>\n",
       "      <td>0.0</td>\n",
       "    </tr>\n",
       "    <tr>\n",
       "      <th>4</th>\n",
       "      <td>5</td>\n",
       "      <td>0.50</td>\n",
       "      <td>130</td>\n",
       "      <td>G</td>\n",
       "      <td>22.99</td>\n",
       "      <td>11</td>\n",
       "      <td>0.0</td>\n",
       "      <td>1.0</td>\n",
       "    </tr>\n",
       "  </tbody>\n",
       "</table>\n",
       "</div>"
      ],
      "text/plain": [
       "   film_id  daily_cost  length rating  replacement_cost  n_customers  \\\n",
       "0        1        0.17      86     PG             20.99           23   \n",
       "1        2        1.66      48      G             12.99            6   \n",
       "2        3        0.43      50  NC-17             18.99           12   \n",
       "3        4        0.60     117      G             26.99           22   \n",
       "4        5        0.50     130      G             22.99           11   \n",
       "\n",
       "  top_categories  n_stars  \n",
       "0            0.0      1.0  \n",
       "1            0.0      0.0  \n",
       "2            0.0      0.0  \n",
       "3            0.0      0.0  \n",
       "4            0.0      1.0  "
      ]
     },
     "execution_count": 26,
     "metadata": {},
     "output_type": "execute_result"
    }
   ],
   "source": [
    "film.n_stars.fillna(0, inplace = True)\n",
    "film.head()"
   ]
  },
  {
   "cell_type": "code",
   "execution_count": 27,
   "id": "89ca372b",
   "metadata": {},
   "outputs": [
    {
     "data": {
      "text/plain": [
       "film_id               int64\n",
       "daily_cost          float64\n",
       "length                int64\n",
       "rating               object\n",
       "replacement_cost    float64\n",
       "n_customers           int64\n",
       "top_categories       object\n",
       "n_stars             float64\n",
       "dtype: object"
      ]
     },
     "execution_count": 27,
     "metadata": {},
     "output_type": "execute_result"
    }
   ],
   "source": [
    "film.dtypes"
   ]
  },
  {
   "cell_type": "code",
   "execution_count": null,
   "id": "d341ebf8",
   "metadata": {},
   "outputs": [],
   "source": []
  },
  {
   "cell_type": "markdown",
   "id": "4a97e405",
   "metadata": {},
   "source": [
    "### Rating --> ordinal"
   ]
  },
  {
   "cell_type": "code",
   "execution_count": 28,
   "id": "44296f74",
   "metadata": {},
   "outputs": [
    {
     "data": {
      "text/html": [
       "<div>\n",
       "<style scoped>\n",
       "    .dataframe tbody tr th:only-of-type {\n",
       "        vertical-align: middle;\n",
       "    }\n",
       "\n",
       "    .dataframe tbody tr th {\n",
       "        vertical-align: top;\n",
       "    }\n",
       "\n",
       "    .dataframe thead th {\n",
       "        text-align: right;\n",
       "    }\n",
       "</style>\n",
       "<table border=\"1\" class=\"dataframe\">\n",
       "  <thead>\n",
       "    <tr style=\"text-align: right;\">\n",
       "      <th></th>\n",
       "      <th>rating</th>\n",
       "      <th>n_rents</th>\n",
       "    </tr>\n",
       "  </thead>\n",
       "  <tbody>\n",
       "    <tr>\n",
       "      <th>0</th>\n",
       "      <td>PG-13</td>\n",
       "      <td>3543</td>\n",
       "    </tr>\n",
       "    <tr>\n",
       "      <th>1</th>\n",
       "      <td>NC-17</td>\n",
       "      <td>3249</td>\n",
       "    </tr>\n",
       "    <tr>\n",
       "      <th>2</th>\n",
       "      <td>PG</td>\n",
       "      <td>3178</td>\n",
       "    </tr>\n",
       "    <tr>\n",
       "      <th>3</th>\n",
       "      <td>R</td>\n",
       "      <td>3152</td>\n",
       "    </tr>\n",
       "    <tr>\n",
       "      <th>4</th>\n",
       "      <td>G</td>\n",
       "      <td>2740</td>\n",
       "    </tr>\n",
       "  </tbody>\n",
       "</table>\n",
       "</div>"
      ],
      "text/plain": [
       "  rating  n_rents\n",
       "0  PG-13     3543\n",
       "1  NC-17     3249\n",
       "2     PG     3178\n",
       "3      R     3152\n",
       "4      G     2740"
      ]
     },
     "execution_count": 28,
     "metadata": {},
     "output_type": "execute_result"
    }
   ],
   "source": [
    "rating"
   ]
  },
  {
   "cell_type": "code",
   "execution_count": 29,
   "id": "af0ea5f6",
   "metadata": {},
   "outputs": [
    {
     "data": {
      "text/html": [
       "<div>\n",
       "<style scoped>\n",
       "    .dataframe tbody tr th:only-of-type {\n",
       "        vertical-align: middle;\n",
       "    }\n",
       "\n",
       "    .dataframe tbody tr th {\n",
       "        vertical-align: top;\n",
       "    }\n",
       "\n",
       "    .dataframe thead th {\n",
       "        text-align: right;\n",
       "    }\n",
       "</style>\n",
       "<table border=\"1\" class=\"dataframe\">\n",
       "  <thead>\n",
       "    <tr style=\"text-align: right;\">\n",
       "      <th></th>\n",
       "      <th>rating</th>\n",
       "      <th>n_rents</th>\n",
       "    </tr>\n",
       "  </thead>\n",
       "  <tbody>\n",
       "    <tr>\n",
       "      <th>0</th>\n",
       "      <td>PG-13</td>\n",
       "      <td>1</td>\n",
       "    </tr>\n",
       "    <tr>\n",
       "      <th>1</th>\n",
       "      <td>NC-17</td>\n",
       "      <td>2</td>\n",
       "    </tr>\n",
       "    <tr>\n",
       "      <th>2</th>\n",
       "      <td>PG</td>\n",
       "      <td>3</td>\n",
       "    </tr>\n",
       "    <tr>\n",
       "      <th>3</th>\n",
       "      <td>R</td>\n",
       "      <td>4</td>\n",
       "    </tr>\n",
       "    <tr>\n",
       "      <th>4</th>\n",
       "      <td>G</td>\n",
       "      <td>5</td>\n",
       "    </tr>\n",
       "  </tbody>\n",
       "</table>\n",
       "</div>"
      ],
      "text/plain": [
       "  rating  n_rents\n",
       "0  PG-13        1\n",
       "1  NC-17        2\n",
       "2     PG        3\n",
       "3      R        4\n",
       "4      G        5"
      ]
     },
     "execution_count": 29,
     "metadata": {},
     "output_type": "execute_result"
    }
   ],
   "source": [
    "rating.n_rents = list(range(1,6))\n",
    "rating"
   ]
  },
  {
   "cell_type": "code",
   "execution_count": 30,
   "id": "b7253c89",
   "metadata": {},
   "outputs": [
    {
     "data": {
      "text/html": [
       "<div>\n",
       "<style scoped>\n",
       "    .dataframe tbody tr th:only-of-type {\n",
       "        vertical-align: middle;\n",
       "    }\n",
       "\n",
       "    .dataframe tbody tr th {\n",
       "        vertical-align: top;\n",
       "    }\n",
       "\n",
       "    .dataframe thead th {\n",
       "        text-align: right;\n",
       "    }\n",
       "</style>\n",
       "<table border=\"1\" class=\"dataframe\">\n",
       "  <thead>\n",
       "    <tr style=\"text-align: right;\">\n",
       "      <th></th>\n",
       "      <th>film_id</th>\n",
       "      <th>daily_cost</th>\n",
       "      <th>length</th>\n",
       "      <th>rating</th>\n",
       "      <th>replacement_cost</th>\n",
       "      <th>n_customers</th>\n",
       "      <th>top_categories</th>\n",
       "      <th>n_stars</th>\n",
       "    </tr>\n",
       "  </thead>\n",
       "  <tbody>\n",
       "    <tr>\n",
       "      <th>0</th>\n",
       "      <td>1</td>\n",
       "      <td>0.17</td>\n",
       "      <td>86</td>\n",
       "      <td>3</td>\n",
       "      <td>20.99</td>\n",
       "      <td>23</td>\n",
       "      <td>0.0</td>\n",
       "      <td>1.0</td>\n",
       "    </tr>\n",
       "    <tr>\n",
       "      <th>1</th>\n",
       "      <td>2</td>\n",
       "      <td>1.66</td>\n",
       "      <td>48</td>\n",
       "      <td>5</td>\n",
       "      <td>12.99</td>\n",
       "      <td>6</td>\n",
       "      <td>0.0</td>\n",
       "      <td>0.0</td>\n",
       "    </tr>\n",
       "    <tr>\n",
       "      <th>2</th>\n",
       "      <td>3</td>\n",
       "      <td>0.43</td>\n",
       "      <td>50</td>\n",
       "      <td>2</td>\n",
       "      <td>18.99</td>\n",
       "      <td>12</td>\n",
       "      <td>0.0</td>\n",
       "      <td>0.0</td>\n",
       "    </tr>\n",
       "    <tr>\n",
       "      <th>3</th>\n",
       "      <td>4</td>\n",
       "      <td>0.60</td>\n",
       "      <td>117</td>\n",
       "      <td>5</td>\n",
       "      <td>26.99</td>\n",
       "      <td>22</td>\n",
       "      <td>0.0</td>\n",
       "      <td>0.0</td>\n",
       "    </tr>\n",
       "    <tr>\n",
       "      <th>4</th>\n",
       "      <td>5</td>\n",
       "      <td>0.50</td>\n",
       "      <td>130</td>\n",
       "      <td>5</td>\n",
       "      <td>22.99</td>\n",
       "      <td>11</td>\n",
       "      <td>0.0</td>\n",
       "      <td>1.0</td>\n",
       "    </tr>\n",
       "    <tr>\n",
       "      <th>...</th>\n",
       "      <td>...</td>\n",
       "      <td>...</td>\n",
       "      <td>...</td>\n",
       "      <td>...</td>\n",
       "      <td>...</td>\n",
       "      <td>...</td>\n",
       "      <td>...</td>\n",
       "      <td>...</td>\n",
       "    </tr>\n",
       "    <tr>\n",
       "      <th>953</th>\n",
       "      <td>996</td>\n",
       "      <td>0.17</td>\n",
       "      <td>183</td>\n",
       "      <td>5</td>\n",
       "      <td>9.99</td>\n",
       "      <td>7</td>\n",
       "      <td>0.0</td>\n",
       "      <td>0.0</td>\n",
       "    </tr>\n",
       "    <tr>\n",
       "      <th>954</th>\n",
       "      <td>997</td>\n",
       "      <td>0.25</td>\n",
       "      <td>179</td>\n",
       "      <td>2</td>\n",
       "      <td>14.99</td>\n",
       "      <td>6</td>\n",
       "      <td>0.0</td>\n",
       "      <td>1.0</td>\n",
       "    </tr>\n",
       "    <tr>\n",
       "      <th>955</th>\n",
       "      <td>998</td>\n",
       "      <td>0.17</td>\n",
       "      <td>105</td>\n",
       "      <td>2</td>\n",
       "      <td>10.99</td>\n",
       "      <td>8</td>\n",
       "      <td>0.0</td>\n",
       "      <td>0.0</td>\n",
       "    </tr>\n",
       "    <tr>\n",
       "      <th>956</th>\n",
       "      <td>999</td>\n",
       "      <td>0.60</td>\n",
       "      <td>101</td>\n",
       "      <td>4</td>\n",
       "      <td>28.99</td>\n",
       "      <td>17</td>\n",
       "      <td>0.0</td>\n",
       "      <td>0.0</td>\n",
       "    </tr>\n",
       "    <tr>\n",
       "      <th>957</th>\n",
       "      <td>1000</td>\n",
       "      <td>1.66</td>\n",
       "      <td>50</td>\n",
       "      <td>2</td>\n",
       "      <td>18.99</td>\n",
       "      <td>31</td>\n",
       "      <td>0.0</td>\n",
       "      <td>0.0</td>\n",
       "    </tr>\n",
       "  </tbody>\n",
       "</table>\n",
       "<p>958 rows × 8 columns</p>\n",
       "</div>"
      ],
      "text/plain": [
       "     film_id  daily_cost  length  rating  replacement_cost  n_customers  \\\n",
       "0          1        0.17      86       3             20.99           23   \n",
       "1          2        1.66      48       5             12.99            6   \n",
       "2          3        0.43      50       2             18.99           12   \n",
       "3          4        0.60     117       5             26.99           22   \n",
       "4          5        0.50     130       5             22.99           11   \n",
       "..       ...         ...     ...     ...               ...          ...   \n",
       "953      996        0.17     183       5              9.99            7   \n",
       "954      997        0.25     179       2             14.99            6   \n",
       "955      998        0.17     105       2             10.99            8   \n",
       "956      999        0.60     101       4             28.99           17   \n",
       "957     1000        1.66      50       2             18.99           31   \n",
       "\n",
       "    top_categories  n_stars  \n",
       "0              0.0      1.0  \n",
       "1              0.0      0.0  \n",
       "2              0.0      0.0  \n",
       "3              0.0      0.0  \n",
       "4              0.0      1.0  \n",
       "..             ...      ...  \n",
       "953            0.0      0.0  \n",
       "954            0.0      1.0  \n",
       "955            0.0      0.0  \n",
       "956            0.0      0.0  \n",
       "957            0.0      0.0  \n",
       "\n",
       "[958 rows x 8 columns]"
      ]
     },
     "execution_count": 30,
     "metadata": {},
     "output_type": "execute_result"
    }
   ],
   "source": [
    "film.rating = film.rating.apply(lambda x: 1 if x == 'PG-13' else (\n",
    "                                          2 if x == 'NC-17' else (\n",
    "                                          3 if x == 'PG' else (\n",
    "                                          4 if x == 'R' else (\n",
    "                                          5 if x == 'G' else nan)))))\n",
    "film"
   ]
  },
  {
   "cell_type": "code",
   "execution_count": 31,
   "id": "08a6d2be",
   "metadata": {},
   "outputs": [
    {
     "data": {
      "text/plain": [
       "film_id             0\n",
       "daily_cost          0\n",
       "length              0\n",
       "rating              0\n",
       "replacement_cost    0\n",
       "n_customers         0\n",
       "top_categories      0\n",
       "n_stars             0\n",
       "dtype: int64"
      ]
     },
     "execution_count": 31,
     "metadata": {},
     "output_type": "execute_result"
    }
   ],
   "source": [
    "film.isna().sum()"
   ]
  },
  {
   "cell_type": "code",
   "execution_count": null,
   "id": "0efa433a",
   "metadata": {},
   "outputs": [],
   "source": []
  },
  {
   "cell_type": "markdown",
   "id": "2e30e522",
   "metadata": {},
   "source": [
    "### Periods"
   ]
  },
  {
   "cell_type": "code",
   "execution_count": 32,
   "id": "7b05282e",
   "metadata": {},
   "outputs": [
    {
     "data": {
      "text/html": [
       "<div>\n",
       "<style scoped>\n",
       "    .dataframe tbody tr th:only-of-type {\n",
       "        vertical-align: middle;\n",
       "    }\n",
       "\n",
       "    .dataframe tbody tr th {\n",
       "        vertical-align: top;\n",
       "    }\n",
       "\n",
       "    .dataframe thead th {\n",
       "        text-align: right;\n",
       "    }\n",
       "</style>\n",
       "<table border=\"1\" class=\"dataframe\">\n",
       "  <thead>\n",
       "    <tr style=\"text-align: right;\">\n",
       "      <th></th>\n",
       "      <th>film_id</th>\n",
       "      <th>daily_cost</th>\n",
       "      <th>length</th>\n",
       "      <th>rating</th>\n",
       "      <th>replacement_cost</th>\n",
       "      <th>n_customers</th>\n",
       "      <th>top_categories</th>\n",
       "      <th>n_stars</th>\n",
       "      <th>rent_period</th>\n",
       "    </tr>\n",
       "  </thead>\n",
       "  <tbody>\n",
       "    <tr>\n",
       "      <th>0</th>\n",
       "      <td>1</td>\n",
       "      <td>0.17</td>\n",
       "      <td>86</td>\n",
       "      <td>3</td>\n",
       "      <td>20.99</td>\n",
       "      <td>23</td>\n",
       "      <td>0.0</td>\n",
       "      <td>1.0</td>\n",
       "      <td>5.0</td>\n",
       "    </tr>\n",
       "    <tr>\n",
       "      <th>1</th>\n",
       "      <td>2</td>\n",
       "      <td>1.66</td>\n",
       "      <td>48</td>\n",
       "      <td>5</td>\n",
       "      <td>12.99</td>\n",
       "      <td>6</td>\n",
       "      <td>0.0</td>\n",
       "      <td>0.0</td>\n",
       "      <td>6.0</td>\n",
       "    </tr>\n",
       "    <tr>\n",
       "      <th>2</th>\n",
       "      <td>3</td>\n",
       "      <td>0.43</td>\n",
       "      <td>50</td>\n",
       "      <td>2</td>\n",
       "      <td>18.99</td>\n",
       "      <td>12</td>\n",
       "      <td>0.0</td>\n",
       "      <td>0.0</td>\n",
       "      <td>3.0</td>\n",
       "    </tr>\n",
       "    <tr>\n",
       "      <th>3</th>\n",
       "      <td>4</td>\n",
       "      <td>0.60</td>\n",
       "      <td>117</td>\n",
       "      <td>5</td>\n",
       "      <td>26.99</td>\n",
       "      <td>22</td>\n",
       "      <td>0.0</td>\n",
       "      <td>0.0</td>\n",
       "      <td>5.0</td>\n",
       "    </tr>\n",
       "    <tr>\n",
       "      <th>4</th>\n",
       "      <td>5</td>\n",
       "      <td>0.50</td>\n",
       "      <td>130</td>\n",
       "      <td>5</td>\n",
       "      <td>22.99</td>\n",
       "      <td>11</td>\n",
       "      <td>0.0</td>\n",
       "      <td>1.0</td>\n",
       "      <td>7.0</td>\n",
       "    </tr>\n",
       "  </tbody>\n",
       "</table>\n",
       "</div>"
      ],
      "text/plain": [
       "   film_id  daily_cost  length  rating  replacement_cost  n_customers  \\\n",
       "0        1        0.17      86       3             20.99           23   \n",
       "1        2        1.66      48       5             12.99            6   \n",
       "2        3        0.43      50       2             18.99           12   \n",
       "3        4        0.60     117       5             26.99           22   \n",
       "4        5        0.50     130       5             22.99           11   \n",
       "\n",
       "  top_categories  n_stars  rent_period  \n",
       "0            0.0      1.0          5.0  \n",
       "1            0.0      0.0          6.0  \n",
       "2            0.0      0.0          3.0  \n",
       "3            0.0      0.0          5.0  \n",
       "4            0.0      1.0          7.0  "
      ]
     },
     "execution_count": 32,
     "metadata": {},
     "output_type": "execute_result"
    }
   ],
   "source": [
    "film = film.merge(periods, how='left', on= 'film_id')\n",
    "film.head()"
   ]
  },
  {
   "cell_type": "code",
   "execution_count": null,
   "id": "9282d51b",
   "metadata": {},
   "outputs": [],
   "source": []
  },
  {
   "cell_type": "markdown",
   "id": "d3ce9bfd",
   "metadata": {},
   "source": [
    "# Create a new column"
   ]
  },
  {
   "cell_type": "code",
   "execution_count": 33,
   "id": "c3b3d2cd",
   "metadata": {},
   "outputs": [
    {
     "data": {
      "text/html": [
       "<div>\n",
       "<style scoped>\n",
       "    .dataframe tbody tr th:only-of-type {\n",
       "        vertical-align: middle;\n",
       "    }\n",
       "\n",
       "    .dataframe tbody tr th {\n",
       "        vertical-align: top;\n",
       "    }\n",
       "\n",
       "    .dataframe thead th {\n",
       "        text-align: right;\n",
       "    }\n",
       "</style>\n",
       "<table border=\"1\" class=\"dataframe\">\n",
       "  <thead>\n",
       "    <tr style=\"text-align: right;\">\n",
       "      <th></th>\n",
       "      <th>film_id</th>\n",
       "      <th>n_rents</th>\n",
       "    </tr>\n",
       "  </thead>\n",
       "  <tbody>\n",
       "    <tr>\n",
       "      <th>0</th>\n",
       "      <td>1</td>\n",
       "      <td>3</td>\n",
       "    </tr>\n",
       "    <tr>\n",
       "      <th>1</th>\n",
       "      <td>3</td>\n",
       "      <td>1</td>\n",
       "    </tr>\n",
       "    <tr>\n",
       "      <th>2</th>\n",
       "      <td>4</td>\n",
       "      <td>2</td>\n",
       "    </tr>\n",
       "    <tr>\n",
       "      <th>3</th>\n",
       "      <td>5</td>\n",
       "      <td>2</td>\n",
       "    </tr>\n",
       "    <tr>\n",
       "      <th>4</th>\n",
       "      <td>6</td>\n",
       "      <td>3</td>\n",
       "    </tr>\n",
       "  </tbody>\n",
       "</table>\n",
       "</div>"
      ],
      "text/plain": [
       "   film_id  n_rents\n",
       "0        1        3\n",
       "1        3        1\n",
       "2        4        2\n",
       "3        5        2\n",
       "4        6        3"
      ]
     },
     "execution_count": 33,
     "metadata": {},
     "output_type": "execute_result"
    }
   ],
   "source": [
    "june.head()"
   ]
  },
  {
   "cell_type": "code",
   "execution_count": 34,
   "id": "f7fd87f8",
   "metadata": {},
   "outputs": [
    {
     "data": {
      "text/html": [
       "<div>\n",
       "<style scoped>\n",
       "    .dataframe tbody tr th:only-of-type {\n",
       "        vertical-align: middle;\n",
       "    }\n",
       "\n",
       "    .dataframe tbody tr th {\n",
       "        vertical-align: top;\n",
       "    }\n",
       "\n",
       "    .dataframe thead th {\n",
       "        text-align: right;\n",
       "    }\n",
       "</style>\n",
       "<table border=\"1\" class=\"dataframe\">\n",
       "  <thead>\n",
       "    <tr style=\"text-align: right;\">\n",
       "      <th></th>\n",
       "      <th>film_id</th>\n",
       "      <th>n_rents</th>\n",
       "    </tr>\n",
       "  </thead>\n",
       "  <tbody>\n",
       "    <tr>\n",
       "      <th>0</th>\n",
       "      <td>1</td>\n",
       "      <td>9</td>\n",
       "    </tr>\n",
       "    <tr>\n",
       "      <th>1</th>\n",
       "      <td>2</td>\n",
       "      <td>2</td>\n",
       "    </tr>\n",
       "    <tr>\n",
       "      <th>2</th>\n",
       "      <td>3</td>\n",
       "      <td>4</td>\n",
       "    </tr>\n",
       "    <tr>\n",
       "      <th>3</th>\n",
       "      <td>4</td>\n",
       "      <td>12</td>\n",
       "    </tr>\n",
       "    <tr>\n",
       "      <th>4</th>\n",
       "      <td>5</td>\n",
       "      <td>5</td>\n",
       "    </tr>\n",
       "  </tbody>\n",
       "</table>\n",
       "</div>"
      ],
      "text/plain": [
       "   film_id  n_rents\n",
       "0        1        9\n",
       "1        2        2\n",
       "2        3        4\n",
       "3        4       12\n",
       "4        5        5"
      ]
     },
     "execution_count": 34,
     "metadata": {},
     "output_type": "execute_result"
    }
   ],
   "source": [
    "july.head()"
   ]
  },
  {
   "cell_type": "code",
   "execution_count": 35,
   "id": "6dd2980c",
   "metadata": {},
   "outputs": [],
   "source": [
    "# failed attempts with with lambdas or functions..."
   ]
  },
  {
   "cell_type": "code",
   "execution_count": 36,
   "id": "3053e8db",
   "metadata": {},
   "outputs": [],
   "source": [
    "# increase = list(map(lamba x,y: 'Yes' if ))"
   ]
  },
  {
   "cell_type": "code",
   "execution_count": 37,
   "id": "55447973",
   "metadata": {},
   "outputs": [
    {
     "data": {
      "text/plain": [
       "900"
      ]
     },
     "execution_count": 37,
     "metadata": {},
     "output_type": "execute_result"
    }
   ],
   "source": [
    "len(june)"
   ]
  },
  {
   "cell_type": "code",
   "execution_count": 38,
   "id": "1e70fcf7",
   "metadata": {},
   "outputs": [
    {
     "data": {
      "text/plain": [
       "958"
      ]
     },
     "execution_count": 38,
     "metadata": {},
     "output_type": "execute_result"
    }
   ],
   "source": [
    "len(july)"
   ]
  },
  {
   "cell_type": "code",
   "execution_count": 39,
   "id": "d8b0e7b6",
   "metadata": {},
   "outputs": [],
   "source": [
    "#increase = {}\n",
    "#for id in july.film_id.values:\n",
    "#    if id in june.film_id.values:\n",
    "        "
   ]
  },
  {
   "cell_type": "markdown",
   "id": "590a8695",
   "metadata": {},
   "source": [
    "## Just merge tables and fillna"
   ]
  },
  {
   "cell_type": "code",
   "execution_count": 40,
   "id": "dce51dd4",
   "metadata": {},
   "outputs": [
    {
     "data": {
      "text/html": [
       "<div>\n",
       "<style scoped>\n",
       "    .dataframe tbody tr th:only-of-type {\n",
       "        vertical-align: middle;\n",
       "    }\n",
       "\n",
       "    .dataframe tbody tr th {\n",
       "        vertical-align: top;\n",
       "    }\n",
       "\n",
       "    .dataframe thead th {\n",
       "        text-align: right;\n",
       "    }\n",
       "</style>\n",
       "<table border=\"1\" class=\"dataframe\">\n",
       "  <thead>\n",
       "    <tr style=\"text-align: right;\">\n",
       "      <th></th>\n",
       "      <th>film_id</th>\n",
       "      <th>n_rents_x</th>\n",
       "      <th>n_rents_y</th>\n",
       "    </tr>\n",
       "  </thead>\n",
       "  <tbody>\n",
       "    <tr>\n",
       "      <th>0</th>\n",
       "      <td>1</td>\n",
       "      <td>3.0</td>\n",
       "      <td>9</td>\n",
       "    </tr>\n",
       "    <tr>\n",
       "      <th>1</th>\n",
       "      <td>2</td>\n",
       "      <td>NaN</td>\n",
       "      <td>2</td>\n",
       "    </tr>\n",
       "    <tr>\n",
       "      <th>2</th>\n",
       "      <td>3</td>\n",
       "      <td>1.0</td>\n",
       "      <td>4</td>\n",
       "    </tr>\n",
       "    <tr>\n",
       "      <th>3</th>\n",
       "      <td>4</td>\n",
       "      <td>2.0</td>\n",
       "      <td>12</td>\n",
       "    </tr>\n",
       "    <tr>\n",
       "      <th>4</th>\n",
       "      <td>5</td>\n",
       "      <td>2.0</td>\n",
       "      <td>5</td>\n",
       "    </tr>\n",
       "    <tr>\n",
       "      <th>...</th>\n",
       "      <td>...</td>\n",
       "      <td>...</td>\n",
       "      <td>...</td>\n",
       "    </tr>\n",
       "    <tr>\n",
       "      <th>953</th>\n",
       "      <td>996</td>\n",
       "      <td>1.0</td>\n",
       "      <td>3</td>\n",
       "    </tr>\n",
       "    <tr>\n",
       "      <th>954</th>\n",
       "      <td>997</td>\n",
       "      <td>1.0</td>\n",
       "      <td>2</td>\n",
       "    </tr>\n",
       "    <tr>\n",
       "      <th>955</th>\n",
       "      <td>998</td>\n",
       "      <td>2.0</td>\n",
       "      <td>3</td>\n",
       "    </tr>\n",
       "    <tr>\n",
       "      <th>956</th>\n",
       "      <td>999</td>\n",
       "      <td>2.0</td>\n",
       "      <td>7</td>\n",
       "    </tr>\n",
       "    <tr>\n",
       "      <th>957</th>\n",
       "      <td>1000</td>\n",
       "      <td>5.0</td>\n",
       "      <td>12</td>\n",
       "    </tr>\n",
       "  </tbody>\n",
       "</table>\n",
       "<p>958 rows × 3 columns</p>\n",
       "</div>"
      ],
      "text/plain": [
       "     film_id  n_rents_x  n_rents_y\n",
       "0          1        3.0          9\n",
       "1          2        NaN          2\n",
       "2          3        1.0          4\n",
       "3          4        2.0         12\n",
       "4          5        2.0          5\n",
       "..       ...        ...        ...\n",
       "953      996        1.0          3\n",
       "954      997        1.0          2\n",
       "955      998        2.0          3\n",
       "956      999        2.0          7\n",
       "957     1000        5.0         12\n",
       "\n",
       "[958 rows x 3 columns]"
      ]
     },
     "execution_count": 40,
     "metadata": {},
     "output_type": "execute_result"
    }
   ],
   "source": [
    "rents = pd.merge(june,july, how='right', on = 'film_id')\n",
    "rents"
   ]
  },
  {
   "cell_type": "code",
   "execution_count": 41,
   "id": "f1997fe4",
   "metadata": {},
   "outputs": [
    {
     "data": {
      "text/html": [
       "<div>\n",
       "<style scoped>\n",
       "    .dataframe tbody tr th:only-of-type {\n",
       "        vertical-align: middle;\n",
       "    }\n",
       "\n",
       "    .dataframe tbody tr th {\n",
       "        vertical-align: top;\n",
       "    }\n",
       "\n",
       "    .dataframe thead th {\n",
       "        text-align: right;\n",
       "    }\n",
       "</style>\n",
       "<table border=\"1\" class=\"dataframe\">\n",
       "  <thead>\n",
       "    <tr style=\"text-align: right;\">\n",
       "      <th></th>\n",
       "      <th>film_id</th>\n",
       "      <th>june</th>\n",
       "      <th>july</th>\n",
       "    </tr>\n",
       "  </thead>\n",
       "  <tbody>\n",
       "    <tr>\n",
       "      <th>0</th>\n",
       "      <td>1</td>\n",
       "      <td>3.0</td>\n",
       "      <td>9</td>\n",
       "    </tr>\n",
       "    <tr>\n",
       "      <th>1</th>\n",
       "      <td>2</td>\n",
       "      <td>NaN</td>\n",
       "      <td>2</td>\n",
       "    </tr>\n",
       "    <tr>\n",
       "      <th>2</th>\n",
       "      <td>3</td>\n",
       "      <td>1.0</td>\n",
       "      <td>4</td>\n",
       "    </tr>\n",
       "    <tr>\n",
       "      <th>3</th>\n",
       "      <td>4</td>\n",
       "      <td>2.0</td>\n",
       "      <td>12</td>\n",
       "    </tr>\n",
       "    <tr>\n",
       "      <th>4</th>\n",
       "      <td>5</td>\n",
       "      <td>2.0</td>\n",
       "      <td>5</td>\n",
       "    </tr>\n",
       "  </tbody>\n",
       "</table>\n",
       "</div>"
      ],
      "text/plain": [
       "   film_id  june  july\n",
       "0        1   3.0     9\n",
       "1        2   NaN     2\n",
       "2        3   1.0     4\n",
       "3        4   2.0    12\n",
       "4        5   2.0     5"
      ]
     },
     "execution_count": 41,
     "metadata": {},
     "output_type": "execute_result"
    }
   ],
   "source": [
    "rents.columns = ['film_id', 'june','july']\n",
    "rents.head()"
   ]
  },
  {
   "cell_type": "code",
   "execution_count": 42,
   "id": "93a448de",
   "metadata": {},
   "outputs": [
    {
     "data": {
      "text/plain": [
       "film_id     0\n",
       "june       58\n",
       "july        0\n",
       "dtype: int64"
      ]
     },
     "execution_count": 42,
     "metadata": {},
     "output_type": "execute_result"
    }
   ],
   "source": [
    "rents.isna().sum()"
   ]
  },
  {
   "cell_type": "code",
   "execution_count": 43,
   "id": "6337c4cb",
   "metadata": {},
   "outputs": [
    {
     "data": {
      "text/html": [
       "<div>\n",
       "<style scoped>\n",
       "    .dataframe tbody tr th:only-of-type {\n",
       "        vertical-align: middle;\n",
       "    }\n",
       "\n",
       "    .dataframe tbody tr th {\n",
       "        vertical-align: top;\n",
       "    }\n",
       "\n",
       "    .dataframe thead th {\n",
       "        text-align: right;\n",
       "    }\n",
       "</style>\n",
       "<table border=\"1\" class=\"dataframe\">\n",
       "  <thead>\n",
       "    <tr style=\"text-align: right;\">\n",
       "      <th></th>\n",
       "      <th>film_id</th>\n",
       "      <th>june</th>\n",
       "      <th>july</th>\n",
       "    </tr>\n",
       "  </thead>\n",
       "  <tbody>\n",
       "    <tr>\n",
       "      <th>0</th>\n",
       "      <td>1</td>\n",
       "      <td>3.0</td>\n",
       "      <td>9</td>\n",
       "    </tr>\n",
       "    <tr>\n",
       "      <th>1</th>\n",
       "      <td>2</td>\n",
       "      <td>0.0</td>\n",
       "      <td>2</td>\n",
       "    </tr>\n",
       "    <tr>\n",
       "      <th>2</th>\n",
       "      <td>3</td>\n",
       "      <td>1.0</td>\n",
       "      <td>4</td>\n",
       "    </tr>\n",
       "    <tr>\n",
       "      <th>3</th>\n",
       "      <td>4</td>\n",
       "      <td>2.0</td>\n",
       "      <td>12</td>\n",
       "    </tr>\n",
       "    <tr>\n",
       "      <th>4</th>\n",
       "      <td>5</td>\n",
       "      <td>2.0</td>\n",
       "      <td>5</td>\n",
       "    </tr>\n",
       "  </tbody>\n",
       "</table>\n",
       "</div>"
      ],
      "text/plain": [
       "   film_id  june  july\n",
       "0        1   3.0     9\n",
       "1        2   0.0     2\n",
       "2        3   1.0     4\n",
       "3        4   2.0    12\n",
       "4        5   2.0     5"
      ]
     },
     "execution_count": 43,
     "metadata": {},
     "output_type": "execute_result"
    }
   ],
   "source": [
    "rents.june.fillna(0, inplace = True)\n",
    "rents.head()"
   ]
  },
  {
   "cell_type": "markdown",
   "id": "d4279305",
   "metadata": {},
   "source": [
    "## Create the new column"
   ]
  },
  {
   "cell_type": "code",
   "execution_count": 44,
   "id": "18be5fac",
   "metadata": {},
   "outputs": [
    {
     "data": {
      "text/html": [
       "<div>\n",
       "<style scoped>\n",
       "    .dataframe tbody tr th:only-of-type {\n",
       "        vertical-align: middle;\n",
       "    }\n",
       "\n",
       "    .dataframe tbody tr th {\n",
       "        vertical-align: top;\n",
       "    }\n",
       "\n",
       "    .dataframe thead th {\n",
       "        text-align: right;\n",
       "    }\n",
       "</style>\n",
       "<table border=\"1\" class=\"dataframe\">\n",
       "  <thead>\n",
       "    <tr style=\"text-align: right;\">\n",
       "      <th></th>\n",
       "      <th>film_id</th>\n",
       "      <th>june</th>\n",
       "      <th>july</th>\n",
       "      <th>increase</th>\n",
       "    </tr>\n",
       "  </thead>\n",
       "  <tbody>\n",
       "    <tr>\n",
       "      <th>0</th>\n",
       "      <td>1</td>\n",
       "      <td>3.0</td>\n",
       "      <td>9</td>\n",
       "      <td>Yes</td>\n",
       "    </tr>\n",
       "    <tr>\n",
       "      <th>1</th>\n",
       "      <td>2</td>\n",
       "      <td>0.0</td>\n",
       "      <td>2</td>\n",
       "      <td>Yes</td>\n",
       "    </tr>\n",
       "    <tr>\n",
       "      <th>2</th>\n",
       "      <td>3</td>\n",
       "      <td>1.0</td>\n",
       "      <td>4</td>\n",
       "      <td>Yes</td>\n",
       "    </tr>\n",
       "    <tr>\n",
       "      <th>3</th>\n",
       "      <td>4</td>\n",
       "      <td>2.0</td>\n",
       "      <td>12</td>\n",
       "      <td>Yes</td>\n",
       "    </tr>\n",
       "    <tr>\n",
       "      <th>4</th>\n",
       "      <td>5</td>\n",
       "      <td>2.0</td>\n",
       "      <td>5</td>\n",
       "      <td>Yes</td>\n",
       "    </tr>\n",
       "  </tbody>\n",
       "</table>\n",
       "</div>"
      ],
      "text/plain": [
       "   film_id  june  july increase\n",
       "0        1   3.0     9      Yes\n",
       "1        2   0.0     2      Yes\n",
       "2        3   1.0     4      Yes\n",
       "3        4   2.0    12      Yes\n",
       "4        5   2.0     5      Yes"
      ]
     },
     "execution_count": 44,
     "metadata": {},
     "output_type": "execute_result"
    }
   ],
   "source": [
    "rents['increase'] = list(map(lambda x,y: 'Yes' if y>x else 'No',rents.june,rents.july))\n",
    "rents.head()"
   ]
  },
  {
   "cell_type": "code",
   "execution_count": 45,
   "id": "0ec4f697",
   "metadata": {},
   "outputs": [
    {
     "data": {
      "text/plain": [
       "Yes    952\n",
       "No       6\n",
       "Name: increase, dtype: int64"
      ]
     },
     "execution_count": 45,
     "metadata": {},
     "output_type": "execute_result"
    }
   ],
   "source": [
    "rents.increase.value_counts() # --> All the exploratory work worths nothing"
   ]
  },
  {
   "cell_type": "code",
   "execution_count": 46,
   "id": "0d26e10c",
   "metadata": {},
   "outputs": [
    {
     "data": {
      "text/html": [
       "<div>\n",
       "<style scoped>\n",
       "    .dataframe tbody tr th:only-of-type {\n",
       "        vertical-align: middle;\n",
       "    }\n",
       "\n",
       "    .dataframe tbody tr th {\n",
       "        vertical-align: top;\n",
       "    }\n",
       "\n",
       "    .dataframe thead th {\n",
       "        text-align: right;\n",
       "    }\n",
       "</style>\n",
       "<table border=\"1\" class=\"dataframe\">\n",
       "  <thead>\n",
       "    <tr style=\"text-align: right;\">\n",
       "      <th></th>\n",
       "      <th>film_id</th>\n",
       "      <th>daily_cost</th>\n",
       "      <th>length</th>\n",
       "      <th>rating</th>\n",
       "      <th>replacement_cost</th>\n",
       "      <th>n_customers</th>\n",
       "      <th>top_categories</th>\n",
       "      <th>n_stars</th>\n",
       "      <th>rent_period</th>\n",
       "    </tr>\n",
       "  </thead>\n",
       "  <tbody>\n",
       "    <tr>\n",
       "      <th>0</th>\n",
       "      <td>1</td>\n",
       "      <td>0.17</td>\n",
       "      <td>86</td>\n",
       "      <td>3</td>\n",
       "      <td>20.99</td>\n",
       "      <td>23</td>\n",
       "      <td>0.0</td>\n",
       "      <td>1.0</td>\n",
       "      <td>5.0</td>\n",
       "    </tr>\n",
       "    <tr>\n",
       "      <th>1</th>\n",
       "      <td>2</td>\n",
       "      <td>1.66</td>\n",
       "      <td>48</td>\n",
       "      <td>5</td>\n",
       "      <td>12.99</td>\n",
       "      <td>6</td>\n",
       "      <td>0.0</td>\n",
       "      <td>0.0</td>\n",
       "      <td>6.0</td>\n",
       "    </tr>\n",
       "    <tr>\n",
       "      <th>2</th>\n",
       "      <td>3</td>\n",
       "      <td>0.43</td>\n",
       "      <td>50</td>\n",
       "      <td>2</td>\n",
       "      <td>18.99</td>\n",
       "      <td>12</td>\n",
       "      <td>0.0</td>\n",
       "      <td>0.0</td>\n",
       "      <td>3.0</td>\n",
       "    </tr>\n",
       "    <tr>\n",
       "      <th>3</th>\n",
       "      <td>4</td>\n",
       "      <td>0.60</td>\n",
       "      <td>117</td>\n",
       "      <td>5</td>\n",
       "      <td>26.99</td>\n",
       "      <td>22</td>\n",
       "      <td>0.0</td>\n",
       "      <td>0.0</td>\n",
       "      <td>5.0</td>\n",
       "    </tr>\n",
       "    <tr>\n",
       "      <th>4</th>\n",
       "      <td>5</td>\n",
       "      <td>0.50</td>\n",
       "      <td>130</td>\n",
       "      <td>5</td>\n",
       "      <td>22.99</td>\n",
       "      <td>11</td>\n",
       "      <td>0.0</td>\n",
       "      <td>1.0</td>\n",
       "      <td>7.0</td>\n",
       "    </tr>\n",
       "  </tbody>\n",
       "</table>\n",
       "</div>"
      ],
      "text/plain": [
       "   film_id  daily_cost  length  rating  replacement_cost  n_customers  \\\n",
       "0        1        0.17      86       3             20.99           23   \n",
       "1        2        1.66      48       5             12.99            6   \n",
       "2        3        0.43      50       2             18.99           12   \n",
       "3        4        0.60     117       5             26.99           22   \n",
       "4        5        0.50     130       5             22.99           11   \n",
       "\n",
       "  top_categories  n_stars  rent_period  \n",
       "0            0.0      1.0          5.0  \n",
       "1            0.0      0.0          6.0  \n",
       "2            0.0      0.0          3.0  \n",
       "3            0.0      0.0          5.0  \n",
       "4            0.0      1.0          7.0  "
      ]
     },
     "execution_count": 46,
     "metadata": {},
     "output_type": "execute_result"
    }
   ],
   "source": [
    "film.head()"
   ]
  },
  {
   "cell_type": "code",
   "execution_count": 47,
   "id": "c714822c",
   "metadata": {},
   "outputs": [
    {
     "data": {
      "text/plain": [
       "film_id     0\n",
       "june        0\n",
       "july        0\n",
       "increase    0\n",
       "dtype: int64"
      ]
     },
     "execution_count": 47,
     "metadata": {},
     "output_type": "execute_result"
    }
   ],
   "source": [
    "rents.isna().sum()"
   ]
  },
  {
   "cell_type": "code",
   "execution_count": 48,
   "id": "e26f2d84",
   "metadata": {},
   "outputs": [
    {
     "data": {
      "text/plain": [
       "958"
      ]
     },
     "execution_count": 48,
     "metadata": {},
     "output_type": "execute_result"
    }
   ],
   "source": [
    "film.film_id.nunique()"
   ]
  },
  {
   "cell_type": "code",
   "execution_count": 49,
   "id": "2b509e7c",
   "metadata": {},
   "outputs": [
    {
     "data": {
      "text/plain": [
       "958"
      ]
     },
     "execution_count": 49,
     "metadata": {},
     "output_type": "execute_result"
    }
   ],
   "source": [
    "rents.film_id.nunique()"
   ]
  },
  {
   "cell_type": "markdown",
   "id": "c08e47dd",
   "metadata": {},
   "source": [
    "## Merge wtih film"
   ]
  },
  {
   "cell_type": "code",
   "execution_count": 50,
   "id": "eb17b511",
   "metadata": {},
   "outputs": [
    {
     "data": {
      "text/html": [
       "<div>\n",
       "<style scoped>\n",
       "    .dataframe tbody tr th:only-of-type {\n",
       "        vertical-align: middle;\n",
       "    }\n",
       "\n",
       "    .dataframe tbody tr th {\n",
       "        vertical-align: top;\n",
       "    }\n",
       "\n",
       "    .dataframe thead th {\n",
       "        text-align: right;\n",
       "    }\n",
       "</style>\n",
       "<table border=\"1\" class=\"dataframe\">\n",
       "  <thead>\n",
       "    <tr style=\"text-align: right;\">\n",
       "      <th></th>\n",
       "      <th>film_id</th>\n",
       "      <th>daily_cost</th>\n",
       "      <th>length</th>\n",
       "      <th>rating</th>\n",
       "      <th>replacement_cost</th>\n",
       "      <th>n_customers</th>\n",
       "      <th>top_categories</th>\n",
       "      <th>n_stars</th>\n",
       "      <th>rent_period</th>\n",
       "      <th>increase</th>\n",
       "    </tr>\n",
       "  </thead>\n",
       "  <tbody>\n",
       "    <tr>\n",
       "      <th>0</th>\n",
       "      <td>1</td>\n",
       "      <td>0.17</td>\n",
       "      <td>86</td>\n",
       "      <td>3</td>\n",
       "      <td>20.99</td>\n",
       "      <td>23</td>\n",
       "      <td>0.0</td>\n",
       "      <td>1.0</td>\n",
       "      <td>5.0</td>\n",
       "      <td>Yes</td>\n",
       "    </tr>\n",
       "    <tr>\n",
       "      <th>1</th>\n",
       "      <td>2</td>\n",
       "      <td>1.66</td>\n",
       "      <td>48</td>\n",
       "      <td>5</td>\n",
       "      <td>12.99</td>\n",
       "      <td>6</td>\n",
       "      <td>0.0</td>\n",
       "      <td>0.0</td>\n",
       "      <td>6.0</td>\n",
       "      <td>Yes</td>\n",
       "    </tr>\n",
       "    <tr>\n",
       "      <th>2</th>\n",
       "      <td>3</td>\n",
       "      <td>0.43</td>\n",
       "      <td>50</td>\n",
       "      <td>2</td>\n",
       "      <td>18.99</td>\n",
       "      <td>12</td>\n",
       "      <td>0.0</td>\n",
       "      <td>0.0</td>\n",
       "      <td>3.0</td>\n",
       "      <td>Yes</td>\n",
       "    </tr>\n",
       "    <tr>\n",
       "      <th>3</th>\n",
       "      <td>4</td>\n",
       "      <td>0.60</td>\n",
       "      <td>117</td>\n",
       "      <td>5</td>\n",
       "      <td>26.99</td>\n",
       "      <td>22</td>\n",
       "      <td>0.0</td>\n",
       "      <td>0.0</td>\n",
       "      <td>5.0</td>\n",
       "      <td>Yes</td>\n",
       "    </tr>\n",
       "    <tr>\n",
       "      <th>4</th>\n",
       "      <td>5</td>\n",
       "      <td>0.50</td>\n",
       "      <td>130</td>\n",
       "      <td>5</td>\n",
       "      <td>22.99</td>\n",
       "      <td>11</td>\n",
       "      <td>0.0</td>\n",
       "      <td>1.0</td>\n",
       "      <td>7.0</td>\n",
       "      <td>Yes</td>\n",
       "    </tr>\n",
       "  </tbody>\n",
       "</table>\n",
       "</div>"
      ],
      "text/plain": [
       "   film_id  daily_cost  length  rating  replacement_cost  n_customers  \\\n",
       "0        1        0.17      86       3             20.99           23   \n",
       "1        2        1.66      48       5             12.99            6   \n",
       "2        3        0.43      50       2             18.99           12   \n",
       "3        4        0.60     117       5             26.99           22   \n",
       "4        5        0.50     130       5             22.99           11   \n",
       "\n",
       "  top_categories  n_stars  rent_period increase  \n",
       "0            0.0      1.0          5.0      Yes  \n",
       "1            0.0      0.0          6.0      Yes  \n",
       "2            0.0      0.0          3.0      Yes  \n",
       "3            0.0      0.0          5.0      Yes  \n",
       "4            0.0      1.0          7.0      Yes  "
      ]
     },
     "execution_count": 50,
     "metadata": {},
     "output_type": "execute_result"
    }
   ],
   "source": [
    "film = film.merge(rents[['film_id','increase']], how='left', on = 'film_id')\n",
    "film.head()"
   ]
  },
  {
   "cell_type": "code",
   "execution_count": null,
   "id": "7b6dc6c5",
   "metadata": {},
   "outputs": [],
   "source": []
  },
  {
   "cell_type": "markdown",
   "id": "d051a7f8",
   "metadata": {},
   "source": [
    "# Analyze and transform features"
   ]
  },
  {
   "cell_type": "code",
   "execution_count": 51,
   "id": "cd7a18dd",
   "metadata": {},
   "outputs": [
    {
     "data": {
      "text/plain": [
       "Yes    952\n",
       "No       6\n",
       "Name: increase, dtype: int64"
      ]
     },
     "execution_count": 51,
     "metadata": {},
     "output_type": "execute_result"
    }
   ],
   "source": [
    "film.increase.value_counts()"
   ]
  },
  {
   "cell_type": "code",
   "execution_count": 52,
   "id": "cbd17cfb",
   "metadata": {},
   "outputs": [
    {
     "data": {
      "text/plain": [
       "film_id               int64\n",
       "daily_cost          float64\n",
       "length                int64\n",
       "rating                int64\n",
       "replacement_cost    float64\n",
       "n_customers           int64\n",
       "top_categories       object\n",
       "n_stars             float64\n",
       "rent_period         float64\n",
       "increase             object\n",
       "dtype: object"
      ]
     },
     "execution_count": 52,
     "metadata": {},
     "output_type": "execute_result"
    }
   ],
   "source": [
    "film.dtypes"
   ]
  },
  {
   "cell_type": "code",
   "execution_count": 53,
   "id": "d30314f6",
   "metadata": {},
   "outputs": [],
   "source": [
    "# top_categories and rating are ordinal\n",
    "# save and drop film_id\n"
   ]
  },
  {
   "cell_type": "code",
   "execution_count": 54,
   "id": "f73b2473",
   "metadata": {},
   "outputs": [
    {
     "data": {
      "text/plain": [
       "0         1\n",
       "1         2\n",
       "2         3\n",
       "3         4\n",
       "4         5\n",
       "       ... \n",
       "953     996\n",
       "954     997\n",
       "955     998\n",
       "956     999\n",
       "957    1000\n",
       "Name: film_id, Length: 958, dtype: int64"
      ]
     },
     "execution_count": 54,
     "metadata": {},
     "output_type": "execute_result"
    }
   ],
   "source": [
    "film_id = film.film_id\n",
    "film_id"
   ]
  },
  {
   "cell_type": "code",
   "execution_count": 55,
   "id": "4e176e87",
   "metadata": {},
   "outputs": [
    {
     "data": {
      "text/html": [
       "<div>\n",
       "<style scoped>\n",
       "    .dataframe tbody tr th:only-of-type {\n",
       "        vertical-align: middle;\n",
       "    }\n",
       "\n",
       "    .dataframe tbody tr th {\n",
       "        vertical-align: top;\n",
       "    }\n",
       "\n",
       "    .dataframe thead th {\n",
       "        text-align: right;\n",
       "    }\n",
       "</style>\n",
       "<table border=\"1\" class=\"dataframe\">\n",
       "  <thead>\n",
       "    <tr style=\"text-align: right;\">\n",
       "      <th></th>\n",
       "      <th>daily_cost</th>\n",
       "      <th>length</th>\n",
       "      <th>rating</th>\n",
       "      <th>replacement_cost</th>\n",
       "      <th>n_customers</th>\n",
       "      <th>top_categories</th>\n",
       "      <th>n_stars</th>\n",
       "      <th>rent_period</th>\n",
       "      <th>increase</th>\n",
       "    </tr>\n",
       "  </thead>\n",
       "  <tbody>\n",
       "    <tr>\n",
       "      <th>0</th>\n",
       "      <td>0.17</td>\n",
       "      <td>86</td>\n",
       "      <td>3</td>\n",
       "      <td>20.99</td>\n",
       "      <td>23</td>\n",
       "      <td>0.0</td>\n",
       "      <td>1.0</td>\n",
       "      <td>5.0</td>\n",
       "      <td>Yes</td>\n",
       "    </tr>\n",
       "    <tr>\n",
       "      <th>1</th>\n",
       "      <td>1.66</td>\n",
       "      <td>48</td>\n",
       "      <td>5</td>\n",
       "      <td>12.99</td>\n",
       "      <td>6</td>\n",
       "      <td>0.0</td>\n",
       "      <td>0.0</td>\n",
       "      <td>6.0</td>\n",
       "      <td>Yes</td>\n",
       "    </tr>\n",
       "    <tr>\n",
       "      <th>2</th>\n",
       "      <td>0.43</td>\n",
       "      <td>50</td>\n",
       "      <td>2</td>\n",
       "      <td>18.99</td>\n",
       "      <td>12</td>\n",
       "      <td>0.0</td>\n",
       "      <td>0.0</td>\n",
       "      <td>3.0</td>\n",
       "      <td>Yes</td>\n",
       "    </tr>\n",
       "    <tr>\n",
       "      <th>3</th>\n",
       "      <td>0.60</td>\n",
       "      <td>117</td>\n",
       "      <td>5</td>\n",
       "      <td>26.99</td>\n",
       "      <td>22</td>\n",
       "      <td>0.0</td>\n",
       "      <td>0.0</td>\n",
       "      <td>5.0</td>\n",
       "      <td>Yes</td>\n",
       "    </tr>\n",
       "    <tr>\n",
       "      <th>4</th>\n",
       "      <td>0.50</td>\n",
       "      <td>130</td>\n",
       "      <td>5</td>\n",
       "      <td>22.99</td>\n",
       "      <td>11</td>\n",
       "      <td>0.0</td>\n",
       "      <td>1.0</td>\n",
       "      <td>7.0</td>\n",
       "      <td>Yes</td>\n",
       "    </tr>\n",
       "  </tbody>\n",
       "</table>\n",
       "</div>"
      ],
      "text/plain": [
       "   daily_cost  length  rating  replacement_cost  n_customers top_categories  \\\n",
       "0        0.17      86       3             20.99           23            0.0   \n",
       "1        1.66      48       5             12.99            6            0.0   \n",
       "2        0.43      50       2             18.99           12            0.0   \n",
       "3        0.60     117       5             26.99           22            0.0   \n",
       "4        0.50     130       5             22.99           11            0.0   \n",
       "\n",
       "   n_stars  rent_period increase  \n",
       "0      1.0          5.0      Yes  \n",
       "1      0.0          6.0      Yes  \n",
       "2      0.0          3.0      Yes  \n",
       "3      0.0          5.0      Yes  \n",
       "4      1.0          7.0      Yes  "
      ]
     },
     "execution_count": 55,
     "metadata": {},
     "output_type": "execute_result"
    }
   ],
   "source": [
    "film = film.iloc[:,1:]\n",
    "film.head()"
   ]
  },
  {
   "cell_type": "code",
   "execution_count": null,
   "id": "29227786",
   "metadata": {},
   "outputs": [],
   "source": []
  },
  {
   "cell_type": "markdown",
   "id": "2ce4f366",
   "metadata": {
    "heading_collapsed": true
   },
   "source": [
    "## Categorical Personal test code"
   ]
  },
  {
   "cell_type": "code",
   "execution_count": 75,
   "id": "d19c6ea9",
   "metadata": {
    "hidden": true
   },
   "outputs": [
    {
     "data": {
      "text/html": [
       "<div>\n",
       "<style scoped>\n",
       "    .dataframe tbody tr th:only-of-type {\n",
       "        vertical-align: middle;\n",
       "    }\n",
       "\n",
       "    .dataframe tbody tr th {\n",
       "        vertical-align: top;\n",
       "    }\n",
       "\n",
       "    .dataframe thead th {\n",
       "        text-align: right;\n",
       "    }\n",
       "</style>\n",
       "<table border=\"1\" class=\"dataframe\">\n",
       "  <thead>\n",
       "    <tr style=\"text-align: right;\">\n",
       "      <th></th>\n",
       "      <th>rating</th>\n",
       "      <th>n_rents</th>\n",
       "    </tr>\n",
       "  </thead>\n",
       "  <tbody>\n",
       "    <tr>\n",
       "      <th>0</th>\n",
       "      <td>PG-13</td>\n",
       "      <td>1</td>\n",
       "    </tr>\n",
       "    <tr>\n",
       "      <th>1</th>\n",
       "      <td>NC-17</td>\n",
       "      <td>2</td>\n",
       "    </tr>\n",
       "    <tr>\n",
       "      <th>2</th>\n",
       "      <td>PG</td>\n",
       "      <td>3</td>\n",
       "    </tr>\n",
       "    <tr>\n",
       "      <th>3</th>\n",
       "      <td>R</td>\n",
       "      <td>4</td>\n",
       "    </tr>\n",
       "    <tr>\n",
       "      <th>4</th>\n",
       "      <td>G</td>\n",
       "      <td>5</td>\n",
       "    </tr>\n",
       "  </tbody>\n",
       "</table>\n",
       "</div>"
      ],
      "text/plain": [
       "  rating  n_rents\n",
       "0  PG-13        1\n",
       "1  NC-17        2\n",
       "2     PG        3\n",
       "3      R        4\n",
       "4      G        5"
      ]
     },
     "execution_count": 75,
     "metadata": {},
     "output_type": "execute_result"
    }
   ],
   "source": [
    "rating"
   ]
  },
  {
   "cell_type": "code",
   "execution_count": 77,
   "id": "fb4b4c1d",
   "metadata": {
    "hidden": true
   },
   "outputs": [
    {
     "data": {
      "text/html": [
       "<div>\n",
       "<style scoped>\n",
       "    .dataframe tbody tr th:only-of-type {\n",
       "        vertical-align: middle;\n",
       "    }\n",
       "\n",
       "    .dataframe tbody tr th {\n",
       "        vertical-align: top;\n",
       "    }\n",
       "\n",
       "    .dataframe thead th {\n",
       "        text-align: right;\n",
       "    }\n",
       "</style>\n",
       "<table border=\"1\" class=\"dataframe\">\n",
       "  <thead>\n",
       "    <tr style=\"text-align: right;\">\n",
       "      <th></th>\n",
       "      <th>rating</th>\n",
       "      <th>rank</th>\n",
       "    </tr>\n",
       "  </thead>\n",
       "  <tbody>\n",
       "    <tr>\n",
       "      <th>0</th>\n",
       "      <td>PG-13</td>\n",
       "      <td>1</td>\n",
       "    </tr>\n",
       "    <tr>\n",
       "      <th>1</th>\n",
       "      <td>NC-17</td>\n",
       "      <td>2</td>\n",
       "    </tr>\n",
       "    <tr>\n",
       "      <th>2</th>\n",
       "      <td>PG</td>\n",
       "      <td>3</td>\n",
       "    </tr>\n",
       "    <tr>\n",
       "      <th>3</th>\n",
       "      <td>R</td>\n",
       "      <td>4</td>\n",
       "    </tr>\n",
       "    <tr>\n",
       "      <th>4</th>\n",
       "      <td>G</td>\n",
       "      <td>5</td>\n",
       "    </tr>\n",
       "  </tbody>\n",
       "</table>\n",
       "</div>"
      ],
      "text/plain": [
       "  rating  rank\n",
       "0  PG-13     1\n",
       "1  NC-17     2\n",
       "2     PG     3\n",
       "3      R     4\n",
       "4      G     5"
      ]
     },
     "execution_count": 77,
     "metadata": {},
     "output_type": "execute_result"
    }
   ],
   "source": [
    "rating.rename(columns = {'n_rents':'rank'}, inplace = True)\n",
    "rating"
   ]
  },
  {
   "cell_type": "code",
   "execution_count": null,
   "id": "cf2fde50",
   "metadata": {
    "hidden": true
   },
   "outputs": [],
   "source": [
    "# rating.rank = rating.rank.map"
   ]
  },
  {
   "cell_type": "code",
   "execution_count": 78,
   "id": "777f567c",
   "metadata": {
    "hidden": true
   },
   "outputs": [
    {
     "data": {
      "text/plain": [
       "daily_cost          float64\n",
       "length                int64\n",
       "rating                int64\n",
       "replacement_cost    float64\n",
       "n_customers           int64\n",
       "top_categories       object\n",
       "n_stars             float64\n",
       "rent_period         float64\n",
       "increase             object\n",
       "dtype: object"
      ]
     },
     "execution_count": 78,
     "metadata": {},
     "output_type": "execute_result"
    }
   ],
   "source": [
    "film.dtypes"
   ]
  },
  {
   "cell_type": "code",
   "execution_count": 85,
   "id": "de7cca14",
   "metadata": {
    "hidden": true
   },
   "outputs": [
    {
     "data": {
      "text/plain": [
       "daily_cost           float64\n",
       "length                 int64\n",
       "rating              category\n",
       "replacement_cost     float64\n",
       "n_customers            int64\n",
       "top_categories        object\n",
       "n_stars              float64\n",
       "rent_period          float64\n",
       "increase              object\n",
       "dtype: object"
      ]
     },
     "execution_count": 85,
     "metadata": {},
     "output_type": "execute_result"
    }
   ],
   "source": [
    "film.rating = film.rating.astype(CategoricalDtype(ordered=True))\n",
    "film.dtypes"
   ]
  },
  {
   "cell_type": "code",
   "execution_count": 86,
   "id": "32a987a9",
   "metadata": {
    "hidden": true
   },
   "outputs": [
    {
     "data": {
      "text/plain": [
       "Int64Index([1, 2, 3, 4, 5], dtype='int64')"
      ]
     },
     "execution_count": 86,
     "metadata": {},
     "output_type": "execute_result"
    }
   ],
   "source": [
    "film.rating.cat.categories"
   ]
  },
  {
   "cell_type": "code",
   "execution_count": 90,
   "id": "ec3a3168",
   "metadata": {
    "hidden": true
   },
   "outputs": [
    {
     "data": {
      "text/plain": [
       "0      2\n",
       "1      0\n",
       "2      3\n",
       "3      0\n",
       "4      0\n",
       "      ..\n",
       "953    0\n",
       "954    3\n",
       "955    3\n",
       "956    1\n",
       "957    3\n",
       "Name: rating, Length: 958, dtype: category\n",
       "Categories (5, int64): [4 < 3 < 2 < 1 < 0]"
      ]
     },
     "execution_count": 90,
     "metadata": {},
     "output_type": "execute_result"
    }
   ],
   "source": [
    "film.rating.cat.rename_categories(list(range(4,-1,-1)))"
   ]
  },
  {
   "cell_type": "code",
   "execution_count": 91,
   "id": "29a55952",
   "metadata": {
    "hidden": true
   },
   "outputs": [
    {
     "data": {
      "text/plain": [
       "0      3\n",
       "1      5\n",
       "2      2\n",
       "3      5\n",
       "4      5\n",
       "      ..\n",
       "953    5\n",
       "954    2\n",
       "955    2\n",
       "956    4\n",
       "957    2\n",
       "Name: rating, Length: 958, dtype: category\n",
       "Categories (5, int64): [1 < 2 < 3 < 4 < 5]"
      ]
     },
     "execution_count": 91,
     "metadata": {},
     "output_type": "execute_result"
    }
   ],
   "source": [
    "film.rating"
   ]
  },
  {
   "cell_type": "code",
   "execution_count": null,
   "id": "30ca62be",
   "metadata": {
    "hidden": true
   },
   "outputs": [],
   "source": []
  },
  {
   "cell_type": "markdown",
   "id": "8018a7a6",
   "metadata": {},
   "source": [
    "## Categoricals"
   ]
  },
  {
   "cell_type": "code",
   "execution_count": 61,
   "id": "a7bc2bab",
   "metadata": {},
   "outputs": [],
   "source": [
    "film.rating = film.rating.astype('object')"
   ]
  },
  {
   "cell_type": "code",
   "execution_count": 62,
   "id": "5fb11c45",
   "metadata": {},
   "outputs": [
    {
     "data": {
      "text/plain": [
       "0.0     640\n",
       "15.0     73\n",
       "2.0      64\n",
       "1.0      61\n",
       "7.0      61\n",
       "14.0     59\n",
       "Name: top_categories, dtype: int64"
      ]
     },
     "execution_count": 62,
     "metadata": {},
     "output_type": "execute_result"
    }
   ],
   "source": [
    "film.top_categories.value_counts()"
   ]
  },
  {
   "cell_type": "code",
   "execution_count": 63,
   "id": "1b4034fc",
   "metadata": {},
   "outputs": [],
   "source": [
    "top_cat_mapper = {0.0:0,15.0:1,2.0:2,1.0:3,7.0:4,14.0:5}\n",
    "film.top_categories = film.top_categories.map(top_cat_mapper)"
   ]
  },
  {
   "cell_type": "code",
   "execution_count": 64,
   "id": "9d918e63",
   "metadata": {},
   "outputs": [
    {
     "data": {
      "text/plain": [
       "0    640\n",
       "1     73\n",
       "2     64\n",
       "3     61\n",
       "4     61\n",
       "5     59\n",
       "Name: top_categories, dtype: int64"
      ]
     },
     "execution_count": 64,
     "metadata": {},
     "output_type": "execute_result"
    }
   ],
   "source": [
    "film.top_categories.value_counts()"
   ]
  },
  {
   "cell_type": "code",
   "execution_count": 65,
   "id": "cbf0e734",
   "metadata": {},
   "outputs": [
    {
     "data": {
      "text/plain": [
       "daily_cost          float64\n",
       "length                int64\n",
       "rating               object\n",
       "replacement_cost    float64\n",
       "n_customers           int64\n",
       "top_categories        int64\n",
       "n_stars             float64\n",
       "rent_period         float64\n",
       "increase             object\n",
       "dtype: object"
      ]
     },
     "execution_count": 65,
     "metadata": {},
     "output_type": "execute_result"
    }
   ],
   "source": [
    "film.dtypes"
   ]
  },
  {
   "cell_type": "code",
   "execution_count": 71,
   "id": "915b03a6",
   "metadata": {},
   "outputs": [],
   "source": [
    "film.top_categories = film.top_categories.astype('object')"
   ]
  },
  {
   "cell_type": "code",
   "execution_count": 72,
   "id": "e4af0f13",
   "metadata": {},
   "outputs": [
    {
     "data": {
      "text/plain": [
       "daily_cost          float64\n",
       "length                int64\n",
       "rating               object\n",
       "replacement_cost    float64\n",
       "n_customers           int64\n",
       "top_categories       object\n",
       "n_stars             float64\n",
       "rent_period         float64\n",
       "increase             object\n",
       "dtype: object"
      ]
     },
     "execution_count": 72,
     "metadata": {},
     "output_type": "execute_result"
    }
   ],
   "source": [
    "film.dtypes"
   ]
  },
  {
   "cell_type": "code",
   "execution_count": null,
   "id": "f3cca284",
   "metadata": {},
   "outputs": [],
   "source": []
  },
  {
   "cell_type": "markdown",
   "id": "f6f4005d",
   "metadata": {},
   "source": [
    "## Numerical"
   ]
  },
  {
   "cell_type": "code",
   "execution_count": null,
   "id": "d6d81ca0",
   "metadata": {},
   "outputs": [],
   "source": []
  },
  {
   "cell_type": "code",
   "execution_count": 92,
   "id": "5b1022d4",
   "metadata": {},
   "outputs": [],
   "source": [
    "# This comes from an error\n",
    "\n",
    "#for f in film.columns:\n",
    "#    if film[f].dtype == int:\n",
    "#        film[f] = film[f].astype(float)\n",
    "        "
   ]
  },
  {
   "cell_type": "code",
   "execution_count": 93,
   "id": "b798e0cd",
   "metadata": {},
   "outputs": [
    {
     "data": {
      "text/plain": [
       "daily_cost          float64\n",
       "length              float64\n",
       "rating               object\n",
       "replacement_cost    float64\n",
       "n_customers         float64\n",
       "top_categories       object\n",
       "n_stars             float64\n",
       "rent_period         float64\n",
       "increase             object\n",
       "dtype: object"
      ]
     },
     "execution_count": 93,
     "metadata": {},
     "output_type": "execute_result"
    }
   ],
   "source": [
    "film.dtypes"
   ]
  },
  {
   "cell_type": "code",
   "execution_count": null,
   "id": "76a5a6bd",
   "metadata": {},
   "outputs": [],
   "source": []
  },
  {
   "cell_type": "code",
   "execution_count": null,
   "id": "78b30c28",
   "metadata": {},
   "outputs": [],
   "source": []
  },
  {
   "cell_type": "markdown",
   "id": "f931b8b4",
   "metadata": {},
   "source": [
    "# Logistic Regression"
   ]
  },
  {
   "cell_type": "code",
   "execution_count": null,
   "id": "e3ecd6b6",
   "metadata": {},
   "outputs": [],
   "source": []
  },
  {
   "cell_type": "markdown",
   "id": "fd422398",
   "metadata": {},
   "source": [
    "## X - y split"
   ]
  },
  {
   "cell_type": "code",
   "execution_count": 97,
   "id": "daa7331e",
   "metadata": {},
   "outputs": [],
   "source": [
    "independent = 'increase'\n",
    "X = film.iloc[:,:-1]\n",
    "y = film.increase"
   ]
  },
  {
   "cell_type": "code",
   "execution_count": null,
   "id": "5411fe57",
   "metadata": {},
   "outputs": [],
   "source": []
  },
  {
   "cell_type": "markdown",
   "id": "0eae03c2",
   "metadata": {},
   "source": [
    "## Train - test split"
   ]
  },
  {
   "cell_type": "code",
   "execution_count": 98,
   "id": "88b83b9a",
   "metadata": {},
   "outputs": [],
   "source": [
    "X_train, X_test, y_train, y_test = train_test_split(X, y, test_size=0.2, random_state=0)"
   ]
  },
  {
   "cell_type": "code",
   "execution_count": null,
   "id": "5ff52576",
   "metadata": {},
   "outputs": [],
   "source": []
  },
  {
   "cell_type": "markdown",
   "id": "89e89945",
   "metadata": {},
   "source": [
    "## Encoding"
   ]
  },
  {
   "cell_type": "code",
   "execution_count": null,
   "id": "4999a0eb",
   "metadata": {},
   "outputs": [],
   "source": []
  },
  {
   "cell_type": "code",
   "execution_count": null,
   "id": "62f9bdbc",
   "metadata": {},
   "outputs": [],
   "source": []
  },
  {
   "cell_type": "markdown",
   "id": "fecf06c9",
   "metadata": {},
   "source": [
    "### Categorical - Nominal"
   ]
  },
  {
   "cell_type": "code",
   "execution_count": null,
   "id": "86cfcea2",
   "metadata": {},
   "outputs": [],
   "source": [
    "# There are any"
   ]
  },
  {
   "cell_type": "code",
   "execution_count": 80,
   "id": "d6f6dbb5",
   "metadata": {},
   "outputs": [],
   "source": [
    "# categorical_train..."
   ]
  },
  {
   "cell_type": "code",
   "execution_count": null,
   "id": "81a6b94f",
   "metadata": {},
   "outputs": [],
   "source": []
  },
  {
   "cell_type": "markdown",
   "id": "87a47953",
   "metadata": {},
   "source": [
    "### Categorical - Ordinal"
   ]
  },
  {
   "cell_type": "code",
   "execution_count": 76,
   "id": "211ee24a",
   "metadata": {},
   "outputs": [
    {
     "data": {
      "text/html": [
       "<div>\n",
       "<style scoped>\n",
       "    .dataframe tbody tr th:only-of-type {\n",
       "        vertical-align: middle;\n",
       "    }\n",
       "\n",
       "    .dataframe tbody tr th {\n",
       "        vertical-align: top;\n",
       "    }\n",
       "\n",
       "    .dataframe thead th {\n",
       "        text-align: right;\n",
       "    }\n",
       "</style>\n",
       "<table border=\"1\" class=\"dataframe\">\n",
       "  <thead>\n",
       "    <tr style=\"text-align: right;\">\n",
       "      <th></th>\n",
       "      <th>rating</th>\n",
       "      <th>top_categories</th>\n",
       "    </tr>\n",
       "  </thead>\n",
       "  <tbody>\n",
       "    <tr>\n",
       "      <th>338</th>\n",
       "      <td>4</td>\n",
       "      <td>0</td>\n",
       "    </tr>\n",
       "    <tr>\n",
       "      <th>588</th>\n",
       "      <td>1</td>\n",
       "      <td>2</td>\n",
       "    </tr>\n",
       "    <tr>\n",
       "      <th>62</th>\n",
       "      <td>2</td>\n",
       "      <td>0</td>\n",
       "    </tr>\n",
       "    <tr>\n",
       "      <th>79</th>\n",
       "      <td>5</td>\n",
       "      <td>0</td>\n",
       "    </tr>\n",
       "    <tr>\n",
       "      <th>651</th>\n",
       "      <td>3</td>\n",
       "      <td>1</td>\n",
       "    </tr>\n",
       "    <tr>\n",
       "      <th>...</th>\n",
       "      <td>...</td>\n",
       "      <td>...</td>\n",
       "    </tr>\n",
       "    <tr>\n",
       "      <th>835</th>\n",
       "      <td>4</td>\n",
       "      <td>0</td>\n",
       "    </tr>\n",
       "    <tr>\n",
       "      <th>192</th>\n",
       "      <td>3</td>\n",
       "      <td>0</td>\n",
       "    </tr>\n",
       "    <tr>\n",
       "      <th>629</th>\n",
       "      <td>1</td>\n",
       "      <td>0</td>\n",
       "    </tr>\n",
       "    <tr>\n",
       "      <th>559</th>\n",
       "      <td>5</td>\n",
       "      <td>4</td>\n",
       "    </tr>\n",
       "    <tr>\n",
       "      <th>684</th>\n",
       "      <td>2</td>\n",
       "      <td>3</td>\n",
       "    </tr>\n",
       "  </tbody>\n",
       "</table>\n",
       "<p>766 rows × 2 columns</p>\n",
       "</div>"
      ],
      "text/plain": [
       "    rating top_categories\n",
       "338      4              0\n",
       "588      1              2\n",
       "62       2              0\n",
       "79       5              0\n",
       "651      3              1\n",
       "..     ...            ...\n",
       "835      4              0\n",
       "192      3              0\n",
       "629      1              0\n",
       "559      5              4\n",
       "684      2              3\n",
       "\n",
       "[766 rows x 2 columns]"
      ]
     },
     "execution_count": 76,
     "metadata": {},
     "output_type": "execute_result"
    }
   ],
   "source": [
    "ordinal_train = X_train.select_dtypes('object')\n",
    "ordinal_test = X_test.select_dtypes('object')\n",
    "ordinal_train"
   ]
  },
  {
   "cell_type": "code",
   "execution_count": null,
   "id": "ce569e73",
   "metadata": {},
   "outputs": [],
   "source": []
  },
  {
   "cell_type": "markdown",
   "id": "3ca70ea4",
   "metadata": {},
   "source": [
    "### Numericals"
   ]
  },
  {
   "cell_type": "code",
   "execution_count": 99,
   "id": "eee1ab77",
   "metadata": {},
   "outputs": [
    {
     "data": {
      "text/html": [
       "<div>\n",
       "<style scoped>\n",
       "    .dataframe tbody tr th:only-of-type {\n",
       "        vertical-align: middle;\n",
       "    }\n",
       "\n",
       "    .dataframe tbody tr th {\n",
       "        vertical-align: top;\n",
       "    }\n",
       "\n",
       "    .dataframe thead th {\n",
       "        text-align: right;\n",
       "    }\n",
       "</style>\n",
       "<table border=\"1\" class=\"dataframe\">\n",
       "  <thead>\n",
       "    <tr style=\"text-align: right;\">\n",
       "      <th></th>\n",
       "      <th>daily_cost</th>\n",
       "      <th>length</th>\n",
       "      <th>replacement_cost</th>\n",
       "      <th>n_customers</th>\n",
       "      <th>n_stars</th>\n",
       "      <th>rent_period</th>\n",
       "    </tr>\n",
       "  </thead>\n",
       "  <tbody>\n",
       "    <tr>\n",
       "      <th>338</th>\n",
       "      <td>0.20</td>\n",
       "      <td>163.0</td>\n",
       "      <td>29.99</td>\n",
       "      <td>28.0</td>\n",
       "      <td>0.0</td>\n",
       "      <td>5.0</td>\n",
       "    </tr>\n",
       "    <tr>\n",
       "      <th>588</th>\n",
       "      <td>0.50</td>\n",
       "      <td>180.0</td>\n",
       "      <td>21.99</td>\n",
       "      <td>15.0</td>\n",
       "      <td>0.0</td>\n",
       "      <td>6.0</td>\n",
       "    </tr>\n",
       "    <tr>\n",
       "      <th>62</th>\n",
       "      <td>1.00</td>\n",
       "      <td>122.0</td>\n",
       "      <td>26.99</td>\n",
       "      <td>15.0</td>\n",
       "      <td>0.0</td>\n",
       "      <td>5.0</td>\n",
       "    </tr>\n",
       "    <tr>\n",
       "      <th>79</th>\n",
       "      <td>0.25</td>\n",
       "      <td>63.0</td>\n",
       "      <td>29.99</td>\n",
       "      <td>16.0</td>\n",
       "      <td>1.0</td>\n",
       "      <td>4.0</td>\n",
       "    </tr>\n",
       "    <tr>\n",
       "      <th>651</th>\n",
       "      <td>0.25</td>\n",
       "      <td>100.0</td>\n",
       "      <td>20.99</td>\n",
       "      <td>20.0</td>\n",
       "      <td>0.0</td>\n",
       "      <td>5.0</td>\n",
       "    </tr>\n",
       "    <tr>\n",
       "      <th>...</th>\n",
       "      <td>...</td>\n",
       "      <td>...</td>\n",
       "      <td>...</td>\n",
       "      <td>...</td>\n",
       "      <td>...</td>\n",
       "      <td>...</td>\n",
       "    </tr>\n",
       "    <tr>\n",
       "      <th>835</th>\n",
       "      <td>1.00</td>\n",
       "      <td>185.0</td>\n",
       "      <td>27.99</td>\n",
       "      <td>15.0</td>\n",
       "      <td>0.0</td>\n",
       "      <td>5.0</td>\n",
       "    </tr>\n",
       "    <tr>\n",
       "      <th>192</th>\n",
       "      <td>0.71</td>\n",
       "      <td>121.0</td>\n",
       "      <td>26.99</td>\n",
       "      <td>12.0</td>\n",
       "      <td>0.0</td>\n",
       "      <td>6.0</td>\n",
       "    </tr>\n",
       "    <tr>\n",
       "      <th>629</th>\n",
       "      <td>0.60</td>\n",
       "      <td>48.0</td>\n",
       "      <td>12.99</td>\n",
       "      <td>18.0</td>\n",
       "      <td>0.0</td>\n",
       "      <td>5.0</td>\n",
       "    </tr>\n",
       "    <tr>\n",
       "      <th>559</th>\n",
       "      <td>0.25</td>\n",
       "      <td>105.0</td>\n",
       "      <td>25.99</td>\n",
       "      <td>12.0</td>\n",
       "      <td>0.0</td>\n",
       "      <td>6.0</td>\n",
       "    </tr>\n",
       "    <tr>\n",
       "      <th>684</th>\n",
       "      <td>0.17</td>\n",
       "      <td>97.0</td>\n",
       "      <td>23.99</td>\n",
       "      <td>17.0</td>\n",
       "      <td>0.0</td>\n",
       "      <td>6.0</td>\n",
       "    </tr>\n",
       "  </tbody>\n",
       "</table>\n",
       "<p>766 rows × 6 columns</p>\n",
       "</div>"
      ],
      "text/plain": [
       "     daily_cost  length  replacement_cost  n_customers  n_stars  rent_period\n",
       "338        0.20   163.0             29.99         28.0      0.0          5.0\n",
       "588        0.50   180.0             21.99         15.0      0.0          6.0\n",
       "62         1.00   122.0             26.99         15.0      0.0          5.0\n",
       "79         0.25    63.0             29.99         16.0      1.0          4.0\n",
       "651        0.25   100.0             20.99         20.0      0.0          5.0\n",
       "..          ...     ...               ...          ...      ...          ...\n",
       "835        1.00   185.0             27.99         15.0      0.0          5.0\n",
       "192        0.71   121.0             26.99         12.0      0.0          6.0\n",
       "629        0.60    48.0             12.99         18.0      0.0          5.0\n",
       "559        0.25   105.0             25.99         12.0      0.0          6.0\n",
       "684        0.17    97.0             23.99         17.0      0.0          6.0\n",
       "\n",
       "[766 rows x 6 columns]"
      ]
     },
     "execution_count": 99,
     "metadata": {},
     "output_type": "execute_result"
    }
   ],
   "source": [
    "numerical_train = X_train._get_numeric_data()\n",
    "numerical_test = X_test._get_numeric_data()\n",
    "numerical_train"
   ]
  },
  {
   "cell_type": "code",
   "execution_count": null,
   "id": "046c9a2e",
   "metadata": {},
   "outputs": [],
   "source": []
  },
  {
   "cell_type": "code",
   "execution_count": null,
   "id": "5f1b73cb",
   "metadata": {},
   "outputs": [],
   "source": [
    "# Plot Numericals"
   ]
  },
  {
   "cell_type": "code",
   "execution_count": 79,
   "id": "15646b0a",
   "metadata": {},
   "outputs": [
    {
     "data": {
      "image/png": "[encoded data removed]",
      "text/plain": [
       "<Figure size 432x288 with 1 Axes>"
      ]
     },
     "metadata": {
      "needs_background": "light"
     },
     "output_type": "display_data"
    },
    {
     "data": {
      "image/png": "[encoded data removed]",
      "text/plain": [
       "<Figure size 432x288 with 1 Axes>"
      ]
     },
     "metadata": {
      "needs_background": "light"
     },
     "output_type": "display_data"
    },
    {
     "data": {
      "image/png": "[encoded data removed]",
      "text/plain": [
       "<Figure size 432x288 with 1 Axes>"
      ]
     },
     "metadata": {
      "needs_background": "light"
     },
     "output_type": "display_data"
    },
    {
     "data": {
      "image/png": "[encoded data removed]",
      "text/plain": [
       "<Figure size 432x288 with 1 Axes>"
      ]
     },
     "metadata": {
      "needs_background": "light"
     },
     "output_type": "display_data"
    },
    {
     "data": {
      "image/png": "[encoded data removed]",
      "text/plain": [
       "<Figure size 432x288 with 1 Axes>"
      ]
     },
     "metadata": {
      "needs_background": "light"
     },
     "output_type": "display_data"
    },
    {
     "data": {
      "image/png": "[encoded data removed]",
      "text/plain": [
       "<Figure size 432x288 with 1 Axes>"
      ]
     },
     "metadata": {
      "needs_background": "light"
     },
     "output_type": "display_data"
    }
   ],
   "source": [
    "for f in numerical_train.columns:\n",
    "    sns.histplot(film[f], kde=True)\n",
    "    plt.show()"
   ]
  },
  {
   "cell_type": "code",
   "execution_count": null,
   "id": "050ddc6c",
   "metadata": {},
   "outputs": [],
   "source": []
  },
  {
   "cell_type": "markdown",
   "id": "e64c1071",
   "metadata": {},
   "source": [
    "### Concat"
   ]
  },
  {
   "cell_type": "code",
   "execution_count": null,
   "id": "6cdf07f7",
   "metadata": {},
   "outputs": [],
   "source": [
    "# X_train = pd.concat"
   ]
  },
  {
   "cell_type": "code",
   "execution_count": null,
   "id": "4263789b",
   "metadata": {},
   "outputs": [],
   "source": []
  },
  {
   "cell_type": "markdown",
   "id": "d0238e96",
   "metadata": {},
   "source": [
    "## Transform and Scaling"
   ]
  },
  {
   "cell_type": "code",
   "execution_count": null,
   "id": "bb363ed6",
   "metadata": {},
   "outputs": [],
   "source": []
  },
  {
   "cell_type": "code",
   "execution_count": 110,
   "id": "f4cc59a6",
   "metadata": {},
   "outputs": [
    {
     "name": "stdout",
     "output_type": "stream",
     "text": [
      "['daily_cost', 'length', 'rating', 'replacement_cost', 'n_customers', 'rent_period']\n",
      "['top_categories', 'n_stars']\n"
     ]
    }
   ],
   "source": [
    "feat2power = []\n",
    "feat2scale = []\n",
    "\n",
    "for f in X_train.columns:\n",
    "    # print(f)\n",
    "    # print(X_train[f].dtype)\n",
    "    # print(X_train[f].isin([0]))\n",
    "    if X_train[f].isin([0]).sum() > 0:\n",
    "        feat2scale.append(f)\n",
    "    else:\n",
    "        feat2power.append(f)\n",
    "        \n",
    "print(feat2power)\n",
    "print(feat2scale)"
   ]
  },
  {
   "cell_type": "code",
   "execution_count": 112,
   "id": "21b7c5e3",
   "metadata": {},
   "outputs": [],
   "source": [
    "X_train_power = X_train[feat2power]\n",
    "X_test_power = X_test[feat2power]"
   ]
  },
  {
   "cell_type": "code",
   "execution_count": null,
   "id": "ad6557ed",
   "metadata": {},
   "outputs": [],
   "source": []
  },
  {
   "cell_type": "code",
   "execution_count": 113,
   "id": "4753fe8c",
   "metadata": {},
   "outputs": [],
   "source": [
    "X_train_scale = X_train[feat2scale]\n",
    "X_test_scale = X_test[feat2scale]"
   ]
  },
  {
   "cell_type": "code",
   "execution_count": null,
   "id": "7c11639d",
   "metadata": {},
   "outputs": [],
   "source": []
  },
  {
   "cell_type": "markdown",
   "id": "4f8a0646",
   "metadata": {},
   "source": [
    "### Power Transformer"
   ]
  },
  {
   "cell_type": "code",
   "execution_count": 111,
   "id": "013b1235",
   "metadata": {},
   "outputs": [],
   "source": []
  },
  {
   "cell_type": "code",
   "execution_count": 116,
   "id": "a23e4a56",
   "metadata": {},
   "outputs": [],
   "source": [
    "pt = PowerTransformer(standardize = False).fit(X_train_power)\n",
    "X_train_power_transformed = pt.transform(X_train_power)\n",
    "X_test_power_transformed = pt.transform(X_test_power)"
   ]
  },
  {
   "cell_type": "code",
   "execution_count": 119,
   "id": "7be8f3bd",
   "metadata": {},
   "outputs": [
    {
     "data": {
      "text/plain": [
       "<bound method BaseEstimator.get_params of PowerTransformer(standardize=False)>"
      ]
     },
     "execution_count": 119,
     "metadata": {},
     "output_type": "execute_result"
    }
   ],
   "source": [
    "pt.get_params"
   ]
  },
  {
   "cell_type": "code",
   "execution_count": 123,
   "id": "0491dbac",
   "metadata": {},
   "outputs": [
    {
     "data": {
      "text/plain": [
       "Index(['daily_cost', 'length', 'rating', 'replacement_cost', 'n_customers',\n",
       "       'rent_period'],\n",
       "      dtype='object')"
      ]
     },
     "execution_count": 123,
     "metadata": {},
     "output_type": "execute_result"
    }
   ],
   "source": [
    "X_train_power.columns"
   ]
  },
  {
   "cell_type": "code",
   "execution_count": 124,
   "id": "71203ecb",
   "metadata": {},
   "outputs": [],
   "source": [
    "X_train_power_transformed = pd.DataFrame(X_train_power_transformed, columns =X_train_power.columns )\n",
    "X_test_power_transformed = pd.DataFrame(X_test_power_transformed, columns =X_train_power.columns)"
   ]
  },
  {
   "cell_type": "code",
   "execution_count": null,
   "id": "706c9b1a",
   "metadata": {},
   "outputs": [],
   "source": []
  },
  {
   "cell_type": "code",
   "execution_count": 132,
   "id": "cb57e38a",
   "metadata": {},
   "outputs": [
    {
     "data": {
      "text/plain": [
       "daily_cost          0\n",
       "length              0\n",
       "rating              0\n",
       "replacement_cost    0\n",
       "n_customers         0\n",
       "rent_period         0\n",
       "dtype: int64"
      ]
     },
     "execution_count": 132,
     "metadata": {},
     "output_type": "execute_result"
    }
   ],
   "source": [
    "X_train_power_transformed.isna().sum()"
   ]
  },
  {
   "cell_type": "code",
   "execution_count": 133,
   "id": "626c8e2c",
   "metadata": {},
   "outputs": [
    {
     "data": {
      "text/plain": [
       "766"
      ]
     },
     "execution_count": 133,
     "metadata": {},
     "output_type": "execute_result"
    }
   ],
   "source": [
    "len(X_train_power_transformed)"
   ]
  },
  {
   "cell_type": "code",
   "execution_count": null,
   "id": "5b5f6d9d",
   "metadata": {},
   "outputs": [],
   "source": []
  },
  {
   "cell_type": "code",
   "execution_count": null,
   "id": "40d7ce79",
   "metadata": {},
   "outputs": [],
   "source": []
  },
  {
   "cell_type": "markdown",
   "id": "d5f64cea",
   "metadata": {},
   "source": [
    "### Standar Scaler"
   ]
  },
  {
   "cell_type": "code",
   "execution_count": null,
   "id": "1da255e1",
   "metadata": {},
   "outputs": [],
   "source": []
  },
  {
   "cell_type": "code",
   "execution_count": null,
   "id": "c65c36ab",
   "metadata": {},
   "outputs": [],
   "source": [
    "#### Combine"
   ]
  },
  {
   "cell_type": "code",
   "execution_count": null,
   "id": "dd4c6cfc",
   "metadata": {},
   "outputs": [],
   "source": [
    "### Reset train_test_split index"
   ]
  },
  {
   "cell_type": "code",
   "execution_count": 135,
   "id": "eed86c73",
   "metadata": {},
   "outputs": [
    {
     "data": {
      "text/plain": [
       "RangeIndex(start=0, stop=766, step=1)"
      ]
     },
     "execution_count": 135,
     "metadata": {},
     "output_type": "execute_result"
    }
   ],
   "source": [
    "X_train_power_transformed.index"
   ]
  },
  {
   "cell_type": "code",
   "execution_count": 140,
   "id": "166f12cc",
   "metadata": {},
   "outputs": [
    {
     "data": {
      "text/plain": [
       "Int64Index([338, 588,  62,  79, 651, 193, 181, 294, 262, 200,\n",
       "            ...\n",
       "            723,   9, 359, 707, 763, 835, 192, 629, 559, 684],\n",
       "           dtype='int64', length=766)"
      ]
     },
     "execution_count": 140,
     "metadata": {},
     "output_type": "execute_result"
    }
   ],
   "source": [
    "X_train_scale.index"
   ]
  },
  {
   "cell_type": "code",
   "execution_count": null,
   "id": "ed85618e",
   "metadata": {},
   "outputs": [],
   "source": []
  },
  {
   "cell_type": "code",
   "execution_count": 137,
   "id": "dafc3156",
   "metadata": {},
   "outputs": [
    {
     "data": {
      "text/plain": [
       "(766, 2)"
      ]
     },
     "execution_count": 137,
     "metadata": {},
     "output_type": "execute_result"
    }
   ],
   "source": [
    "X_train_scale.shape"
   ]
  },
  {
   "cell_type": "code",
   "execution_count": 149,
   "id": "b92cd546",
   "metadata": {},
   "outputs": [],
   "source": [
    "X_train_scale.reset_index(drop=True, inplace = True)\n",
    "X_test_scale.reset_index(drop=True, inplace = True)"
   ]
  },
  {
   "cell_type": "code",
   "execution_count": 142,
   "id": "7047d51c",
   "metadata": {},
   "outputs": [
    {
     "data": {
      "text/plain": [
       "RangeIndex(start=0, stop=766, step=1)"
      ]
     },
     "execution_count": 142,
     "metadata": {},
     "output_type": "execute_result"
    }
   ],
   "source": [
    "X_train_scale.index"
   ]
  },
  {
   "cell_type": "code",
   "execution_count": null,
   "id": "9ff8a98c",
   "metadata": {},
   "outputs": [],
   "source": []
  },
  {
   "cell_type": "code",
   "execution_count": null,
   "id": "70501abf",
   "metadata": {},
   "outputs": [],
   "source": []
  },
  {
   "cell_type": "code",
   "execution_count": null,
   "id": "e52c488f",
   "metadata": {},
   "outputs": [],
   "source": []
  },
  {
   "cell_type": "code",
   "execution_count": null,
   "id": "3df695a8",
   "metadata": {},
   "outputs": [],
   "source": []
  },
  {
   "cell_type": "code",
   "execution_count": null,
   "id": "19b6317f",
   "metadata": {},
   "outputs": [],
   "source": []
  },
  {
   "cell_type": "code",
   "execution_count": 150,
   "id": "fa3753cf",
   "metadata": {},
   "outputs": [],
   "source": [
    "X_train_transformed = pd.concat([X_train_power_transformed,X_train_scale], axis=1)\n",
    "X_test_transformed = pd.concat([X_test_power_transformed,X_test_scale], axis=1)"
   ]
  },
  {
   "cell_type": "code",
   "execution_count": null,
   "id": "e0171a47",
   "metadata": {},
   "outputs": [],
   "source": []
  },
  {
   "cell_type": "code",
   "execution_count": 151,
   "id": "552a6078",
   "metadata": {},
   "outputs": [],
   "source": [
    "scaler = MinMaxScaler().fit(X_train_transformed)\n",
    "X_train_scaled = scaler.transform(X_train_transformed)\n",
    "X_test_scaled = scaler.transform(X_test_transformed)"
   ]
  },
  {
   "cell_type": "code",
   "execution_count": null,
   "id": "1203f5fc",
   "metadata": {},
   "outputs": [],
   "source": []
  },
  {
   "cell_type": "code",
   "execution_count": 152,
   "id": "0f581890",
   "metadata": {},
   "outputs": [],
   "source": [
    "X_train_scaled = pd.DataFrame(X_train_scaled, columns = X_train_transformed.columns)\n",
    "X_test_scaled = pd.DataFrame(X_test_scaled, columns = X_train_transformed.columns)"
   ]
  },
  {
   "cell_type": "code",
   "execution_count": null,
   "id": "4484d643",
   "metadata": {},
   "outputs": [],
   "source": []
  },
  {
   "cell_type": "code",
   "execution_count": 146,
   "id": "25c18567",
   "metadata": {},
   "outputs": [
    {
     "data": {
      "text/plain": [
       "daily_cost          0\n",
       "length              0\n",
       "rating              0\n",
       "replacement_cost    0\n",
       "n_customers         0\n",
       "rent_period         0\n",
       "top_categories      0\n",
       "n_stars             0\n",
       "dtype: int64"
      ]
     },
     "execution_count": 146,
     "metadata": {},
     "output_type": "execute_result"
    }
   ],
   "source": [
    "X_train_scaled.isna().sum()"
   ]
  },
  {
   "cell_type": "code",
   "execution_count": null,
   "id": "5da54bdb",
   "metadata": {},
   "outputs": [],
   "source": [
    "# Parió la abuela"
   ]
  },
  {
   "cell_type": "code",
   "execution_count": 134,
   "id": "37f67a12",
   "metadata": {},
   "outputs": [
    {
     "data": {
      "text/plain": [
       "920"
      ]
     },
     "execution_count": 134,
     "metadata": {},
     "output_type": "execute_result"
    }
   ],
   "source": [
    "# len(X_train_scaled)"
   ]
  },
  {
   "cell_type": "code",
   "execution_count": null,
   "id": "ca884820",
   "metadata": {},
   "outputs": [],
   "source": []
  },
  {
   "cell_type": "code",
   "execution_count": null,
   "id": "2c251de2",
   "metadata": {},
   "outputs": [],
   "source": []
  },
  {
   "cell_type": "markdown",
   "id": "ce5eab56",
   "metadata": {},
   "source": [
    "## Fit the model and predict"
   ]
  },
  {
   "cell_type": "code",
   "execution_count": null,
   "id": "eb98fec6",
   "metadata": {},
   "outputs": [],
   "source": [
    "# Fit"
   ]
  },
  {
   "cell_type": "code",
   "execution_count": 153,
   "id": "9109bd0b",
   "metadata": {},
   "outputs": [],
   "source": [
    "classifier = LogisticRegression() # random_state=0) --> multiclass\n",
    "classifier = classifier.fit(X_train_scaled,y_train)"
   ]
  },
  {
   "cell_type": "code",
   "execution_count": null,
   "id": "4abea612",
   "metadata": {},
   "outputs": [],
   "source": [
    "# Predict"
   ]
  },
  {
   "cell_type": "code",
   "execution_count": 154,
   "id": "aba0cdbf",
   "metadata": {},
   "outputs": [],
   "source": [
    "y_train_predict = classifier.predict(X_train_scaled)\n",
    "y_test_predict = classifier.predict(X_test_scaled)"
   ]
  },
  {
   "cell_type": "code",
   "execution_count": null,
   "id": "751f5303",
   "metadata": {},
   "outputs": [],
   "source": []
  },
  {
   "cell_type": "code",
   "execution_count": null,
   "id": "a698febc",
   "metadata": {},
   "outputs": [],
   "source": []
  },
  {
   "cell_type": "markdown",
   "id": "a20a0139",
   "metadata": {},
   "source": [
    "# Metrics"
   ]
  },
  {
   "cell_type": "markdown",
   "id": "fa70672c",
   "metadata": {},
   "source": [
    "## Logistic score - accuracy"
   ]
  },
  {
   "cell_type": "code",
   "execution_count": null,
   "id": "597b4993",
   "metadata": {},
   "outputs": [],
   "source": [
    "# Train"
   ]
  },
  {
   "cell_type": "code",
   "execution_count": 155,
   "id": "15ee1854",
   "metadata": {},
   "outputs": [
    {
     "data": {
      "text/plain": [
       "0.9921671018276762"
      ]
     },
     "execution_count": 155,
     "metadata": {},
     "output_type": "execute_result"
    }
   ],
   "source": [
    "classifier.score(X_train_scaled, y_train) "
   ]
  },
  {
   "cell_type": "code",
   "execution_count": null,
   "id": "6fda4233",
   "metadata": {},
   "outputs": [],
   "source": [
    "# Test"
   ]
  },
  {
   "cell_type": "code",
   "execution_count": 157,
   "id": "38b87848",
   "metadata": {},
   "outputs": [
    {
     "data": {
      "text/plain": [
       "1.0"
      ]
     },
     "execution_count": 157,
     "metadata": {},
     "output_type": "execute_result"
    }
   ],
   "source": [
    "classifier.score(X_test_scaled, y_test)  "
   ]
  },
  {
   "cell_type": "code",
   "execution_count": null,
   "id": "5b1f8576",
   "metadata": {},
   "outputs": [],
   "source": []
  },
  {
   "cell_type": "markdown",
   "id": "8c9b9b3d",
   "metadata": {},
   "source": [
    "## More error metrics"
   ]
  },
  {
   "cell_type": "code",
   "execution_count": 162,
   "id": "8a32e5fd",
   "metadata": {},
   "outputs": [
    {
     "name": "stdout",
     "output_type": "stream",
     "text": [
      "The accuracy in the TEST set is: 1.00\n",
      "The precision in the TEST set is: 0.00\n",
      "The recall in the TEST set is: 0.00\n",
      "The F1 in the TEST set is: 0.00\n",
      "The Kappa in the TEST set is: nan\n"
     ]
    },
    {
     "name": "stderr",
     "output_type": "stream",
     "text": [
      "/Users/albertomengual/opt/anaconda3/lib/python3.9/site-packages/numpy/lib/arraysetops.py:579: FutureWarning: elementwise comparison failed; returning scalar instead, but in the future will perform elementwise comparison\n",
      "  mask &= (ar1 != a)\n",
      "/Users/albertomengual/opt/anaconda3/lib/python3.9/site-packages/sklearn/metrics/_classification.py:1248: UndefinedMetricWarning: Precision is ill-defined and being set to 0.0 due to no predicted samples. Use `zero_division` parameter to control this behavior.\n",
      "  ----------\n",
      "/Users/albertomengual/opt/anaconda3/lib/python3.9/site-packages/numpy/lib/arraysetops.py:579: FutureWarning: elementwise comparison failed; returning scalar instead, but in the future will perform elementwise comparison\n",
      "  mask &= (ar1 != a)\n",
      "/Users/albertomengual/opt/anaconda3/lib/python3.9/site-packages/sklearn/metrics/_classification.py:1248: UndefinedMetricWarning: Recall is ill-defined and being set to 0.0 due to no true samples. Use `zero_division` parameter to control this behavior.\n",
      "  ----------\n",
      "/Users/albertomengual/opt/anaconda3/lib/python3.9/site-packages/numpy/lib/arraysetops.py:579: FutureWarning: elementwise comparison failed; returning scalar instead, but in the future will perform elementwise comparison\n",
      "  mask &= (ar1 != a)\n",
      "/Users/albertomengual/opt/anaconda3/lib/python3.9/site-packages/sklearn/metrics/_classification.py:1495: UndefinedMetricWarning: F-score is ill-defined and being set to 0.0 due to no true nor predicted samples. Use `zero_division` parameter to control this behavior.\n",
      "  [n_unique_labels]\n",
      "/Users/albertomengual/opt/anaconda3/lib/python3.9/site-packages/sklearn/metrics/_classification.py:641: RuntimeWarning: invalid value encountered in true_divide\n",
      "  .. [3] `Wikipedia entry for the Cohen's kappa\n"
     ]
    }
   ],
   "source": [
    "print(\"The accuracy in the TEST set is: {:.2f}\".format(accuracy_score(y_test,y_test_predict)))\n",
    "print(\"The precision in the TEST set is: {:.2f}\".format(precision_score(y_test,y_test_predict)))\n",
    "print(\"The recall in the TEST set is: {:.2f}\".format(recall_score(y_test,y_test_predict)))\n",
    "print(\"The F1 in the TEST set is: {:.2f}\".format(f1_score(y_test,y_test_predict)))\n",
    "print(\"The Kappa in the TEST set is: {:.2f}\".format(cohen_kappa_score(y_test,y_test_predict)))"
   ]
  },
  {
   "cell_type": "code",
   "execution_count": null,
   "id": "ee69a3e0",
   "metadata": {},
   "outputs": [],
   "source": []
  },
  {
   "cell_type": "markdown",
   "id": "15451004",
   "metadata": {},
   "source": [
    "## Confusion matrix train"
   ]
  },
  {
   "cell_type": "code",
   "execution_count": 164,
   "id": "4bbb7d1d",
   "metadata": {},
   "outputs": [
    {
     "data": {
      "image/png": "[encoded data removed]",
      "text/plain": [
       "<Figure size 432x288 with 2 Axes>"
      ]
     },
     "metadata": {
      "needs_background": "light"
     },
     "output_type": "display_data"
    }
   ],
   "source": [
    "cm_train = confusion_matrix(y_train, y_train_predict)\n",
    "dispTrain = ConfusionMatrixDisplay(cm_train, display_labels= classifier.classes_)\n",
    "dispTrain.plot()\n",
    "plt.show()"
   ]
  },
  {
   "cell_type": "code",
   "execution_count": null,
   "id": "b1c0a787",
   "metadata": {},
   "outputs": [],
   "source": []
  },
  {
   "cell_type": "code",
   "execution_count": 163,
   "id": "5d0e59ae",
   "metadata": {},
   "outputs": [
    {
     "data": {
      "text/plain": [
       "array(['No', 'Yes'], dtype=object)"
      ]
     },
     "execution_count": 163,
     "metadata": {},
     "output_type": "execute_result"
    }
   ],
   "source": [
    "classifier.classes_"
   ]
  },
  {
   "cell_type": "code",
   "execution_count": null,
   "id": "6ccffc92",
   "metadata": {},
   "outputs": [],
   "source": []
  },
  {
   "cell_type": "markdown",
   "id": "20306772",
   "metadata": {},
   "source": [
    "## Confusion matrix test"
   ]
  },
  {
   "cell_type": "code",
   "execution_count": 165,
   "id": "6255ddbc",
   "metadata": {},
   "outputs": [
    {
     "data": {
      "text/plain": [
       "Yes    192\n",
       "Name: increase, dtype: int64"
      ]
     },
     "execution_count": 165,
     "metadata": {},
     "output_type": "execute_result"
    }
   ],
   "source": [
    "y_test.value_counts()"
   ]
  },
  {
   "cell_type": "code",
   "execution_count": 167,
   "id": "2fcbbb35",
   "metadata": {},
   "outputs": [
    {
     "data": {
      "text/plain": [
       "array(['Yes', 'Yes', 'Yes', 'Yes', 'Yes', 'Yes', 'Yes', 'Yes', 'Yes',\n",
       "       'Yes', 'Yes', 'Yes', 'Yes', 'Yes', 'Yes', 'Yes', 'Yes', 'Yes',\n",
       "       'Yes', 'Yes', 'Yes', 'Yes', 'Yes', 'Yes', 'Yes', 'Yes', 'Yes',\n",
       "       'Yes', 'Yes', 'Yes', 'Yes', 'Yes', 'Yes', 'Yes', 'Yes', 'Yes',\n",
       "       'Yes', 'Yes', 'Yes', 'Yes', 'Yes', 'Yes', 'Yes', 'Yes', 'Yes',\n",
       "       'Yes', 'Yes', 'Yes', 'Yes', 'Yes', 'Yes', 'Yes', 'Yes', 'Yes',\n",
       "       'Yes', 'Yes', 'Yes', 'Yes', 'Yes', 'Yes', 'Yes', 'Yes', 'Yes',\n",
       "       'Yes', 'Yes', 'Yes', 'Yes', 'Yes', 'Yes', 'Yes', 'Yes', 'Yes',\n",
       "       'Yes', 'Yes', 'Yes', 'Yes', 'Yes', 'Yes', 'Yes', 'Yes', 'Yes',\n",
       "       'Yes', 'Yes', 'Yes', 'Yes', 'Yes', 'Yes', 'Yes', 'Yes', 'Yes',\n",
       "       'Yes', 'Yes', 'Yes', 'Yes', 'Yes', 'Yes', 'Yes', 'Yes', 'Yes',\n",
       "       'Yes', 'Yes', 'Yes', 'Yes', 'Yes', 'Yes', 'Yes', 'Yes', 'Yes',\n",
       "       'Yes', 'Yes', 'Yes', 'Yes', 'Yes', 'Yes', 'Yes', 'Yes', 'Yes',\n",
       "       'Yes', 'Yes', 'Yes', 'Yes', 'Yes', 'Yes', 'Yes', 'Yes', 'Yes',\n",
       "       'Yes', 'Yes', 'Yes', 'Yes', 'Yes', 'Yes', 'Yes', 'Yes', 'Yes',\n",
       "       'Yes', 'Yes', 'Yes', 'Yes', 'Yes', 'Yes', 'Yes', 'Yes', 'Yes',\n",
       "       'Yes', 'Yes', 'Yes', 'Yes', 'Yes', 'Yes', 'Yes', 'Yes', 'Yes',\n",
       "       'Yes', 'Yes', 'Yes', 'Yes', 'Yes', 'Yes', 'Yes', 'Yes', 'Yes',\n",
       "       'Yes', 'Yes', 'Yes', 'Yes', 'Yes', 'Yes', 'Yes', 'Yes', 'Yes',\n",
       "       'Yes', 'Yes', 'Yes', 'Yes', 'Yes', 'Yes', 'Yes', 'Yes', 'Yes',\n",
       "       'Yes', 'Yes', 'Yes', 'Yes', 'Yes', 'Yes', 'Yes', 'Yes', 'Yes',\n",
       "       'Yes', 'Yes', 'Yes'], dtype=object)"
      ]
     },
     "execution_count": 167,
     "metadata": {},
     "output_type": "execute_result"
    }
   ],
   "source": [
    "y_test_predict #.value_counts()"
   ]
  },
  {
   "cell_type": "code",
   "execution_count": null,
   "id": "0c88d8e8",
   "metadata": {},
   "outputs": [],
   "source": []
  },
  {
   "cell_type": "code",
   "execution_count": 170,
   "id": "831b399a",
   "metadata": {},
   "outputs": [
    {
     "data": {
      "image/png": "[encoded data removed]",
      "text/plain": [
       "<Figure size 432x288 with 2 Axes>"
      ]
     },
     "metadata": {
      "needs_background": "light"
     },
     "output_type": "display_data"
    }
   ],
   "source": [
    "cm_test = confusion_matrix(y_test,y_test_predict)\n",
    "disp = ConfusionMatrixDisplay(confusion_matrix=cm_test, display_labels= ['Yes'])# classifier.classes_)\n",
    "disp.plot()\n",
    "plt.show()"
   ]
  },
  {
   "cell_type": "code",
   "execution_count": null,
   "id": "109e3dff",
   "metadata": {},
   "outputs": [],
   "source": []
  },
  {
   "cell_type": "code",
   "execution_count": null,
   "id": "554cd777",
   "metadata": {},
   "outputs": [],
   "source": []
  },
  {
   "cell_type": "code",
   "execution_count": null,
   "id": "4a54d803",
   "metadata": {},
   "outputs": [],
   "source": []
  },
  {
   "cell_type": "code",
   "execution_count": null,
   "id": "6e5f096c",
   "metadata": {},
   "outputs": [],
   "source": []
  },
  {
   "cell_type": "code",
   "execution_count": null,
   "id": "11ee5d95",
   "metadata": {},
   "outputs": [],
   "source": []
  },
  {
   "cell_type": "code",
   "execution_count": null,
   "id": "bf8b0e27",
   "metadata": {},
   "outputs": [],
   "source": []
  },
  {
   "cell_type": "code",
   "execution_count": null,
   "id": "dddaa0cc",
   "metadata": {},
   "outputs": [],
   "source": []
  },
  {
   "cell_type": "code",
   "execution_count": null,
   "id": "3d10f615",
   "metadata": {},
   "outputs": [],
   "source": []
  },
  {
   "cell_type": "code",
   "execution_count": null,
   "id": "cc964efd",
   "metadata": {},
   "outputs": [],
   "source": []
  },
  {
   "cell_type": "code",
   "execution_count": null,
   "id": "08652570",
   "metadata": {},
   "outputs": [],
   "source": []
  },
  {
   "cell_type": "code",
   "execution_count": null,
   "id": "c8fa28e1",
   "metadata": {},
   "outputs": [],
   "source": []
  },
  {
   "cell_type": "code",
   "execution_count": null,
   "id": "e125682f",
   "metadata": {},
   "outputs": [],
   "source": []
  },
  {
   "cell_type": "code",
   "execution_count": null,
   "id": "089cabd1",
   "metadata": {},
   "outputs": [],
   "source": []
  },
  {
   "cell_type": "code",
   "execution_count": null,
   "id": "b91e49a7",
   "metadata": {},
   "outputs": [],
   "source": []
  },
  {
   "cell_type": "code",
   "execution_count": null,
   "id": "83dbca32",
   "metadata": {},
   "outputs": [],
   "source": []
  },
  {
   "cell_type": "code",
   "execution_count": null,
   "id": "ae851b3b",
   "metadata": {},
   "outputs": [],
   "source": []
  },
  {
   "cell_type": "code",
   "execution_count": null,
   "id": "ea58e455",
   "metadata": {},
   "outputs": [],
   "source": []
  },
  {
   "cell_type": "code",
   "execution_count": null,
   "id": "5221133d",
   "metadata": {},
   "outputs": [],
   "source": []
  },
  {
   "cell_type": "code",
   "execution_count": null,
   "id": "fb239759",
   "metadata": {},
   "outputs": [],
   "source": []
  },
  {
   "cell_type": "code",
   "execution_count": null,
   "id": "3a1f1325",
   "metadata": {},
   "outputs": [],
   "source": []
  }
 ],
 "metadata": {
  "kernelspec": {
   "display_name": "Python 3 (ipykernel)",
   "language": "python",
   "name": "python3"
  },
  "language_info": {
   "codemirror_mode": {
    "name": "ipython",
    "version": 3
   },
   "file_extension": ".py",
   "mimetype": "text/x-python",
   "name": "python",
   "nbconvert_exporter": "python",
   "pygments_lexer": "ipython3",
   "version": "3.9.7"
  },
  "toc": {
   "base_numbering": 1,
   "nav_menu": {},
   "number_sections": true,
   "sideBar": true,
   "skip_h1_title": false,
   "title_cell": "Table of Contents",
   "title_sidebar": "Contents",
   "toc_cell": false,
   "toc_position": {
    "height": "calc(100% - 180px)",
    "left": "10px",
    "top": "150px",
    "width": "277px"
   },
   "toc_section_display": true,
   "toc_window_display": true
  },
  "varInspector": {
   "cols": {
    "lenName": 16,
    "lenType": 16,
    "lenVar": 40
   },
   "kernels_config": {
    "python": {
     "delete_cmd_postfix": "",
     "delete_cmd_prefix": "del ",
     "library": "var_list.py",
     "varRefreshCmd": "print(var_dic_list())"
    },
    "r": {
     "delete_cmd_postfix": ") ",
     "delete_cmd_prefix": "rm(",
     "library": "var_list.r",
     "varRefreshCmd": "cat(var_dic_list()) "
    }
   },
   "oldHeight": 405.844,
   "position": {
    "height": "40px",
    "left": "661px",
    "right": "20px",
    "top": "29px",
    "width": "561px"
   },
   "types_to_exclude": [
    "module",
    "function",
    "builtin_function_or_method",
    "instance",
    "_Feature"
   ],
   "varInspector_section_display": "none",
   "window_display": true
  }
 },
 "nbformat": 4,
 "nbformat_minor": 5
}
